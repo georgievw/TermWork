{
  "nbformat": 4,
  "nbformat_minor": 0,
  "metadata": {
    "colab": {
      "name": "BayesNews",
      "provenance": [],
      "collapsed_sections": [],
      "authorship_tag": "ABX9TyOwEBq9lCoINd3Dw0z0VsdN",
      "include_colab_link": true
    },
    "kernelspec": {
      "name": "python3",
      "display_name": "Python 3"
    },
    "language_info": {
      "name": "python"
    }
  },
  "cells": [
    {
      "cell_type": "markdown",
      "metadata": {
        "id": "view-in-github",
        "colab_type": "text"
      },
      "source": [
        "<a href=\"https://colab.research.google.com/github/georgievw/TermWork/blob/main/BayesNews.ipynb\" target=\"_parent\"><img src=\"https://colab.research.google.com/assets/colab-badge.svg\" alt=\"Open In Colab\"/></a>"
      ]
    },
    {
      "cell_type": "code",
      "execution_count": null,
      "metadata": {
        "id": "AOCo4SpxG1ol",
        "colab": {
          "base_uri": "https://localhost:8080/"
        },
        "outputId": "4a977e52-aafc-4c2c-eea2-6ed5aba28152"
      },
      "outputs": [
        {
          "output_type": "stream",
          "name": "stdout",
          "text": [
            "Mounted at /content/drive\n"
          ]
        }
      ],
      "source": [
        "from google.colab import drive\n",
        "import pandas as pd\n",
        "\n",
        "drive.mount('/content/drive')"
      ]
    },
    {
      "cell_type": "code",
      "source": [
        "!ls drive/MyDrive/"
      ],
      "metadata": {
        "colab": {
          "base_uri": "https://localhost:8080/"
        },
        "id": "GDu9OvZn7Ae4",
        "outputId": "3466bbb7-684f-498f-9250-b92b0482b500"
      },
      "execution_count": null,
      "outputs": [
        {
          "output_type": "stream",
          "name": "stdout",
          "text": [
            " Classroom\t       'Арсентьев ДУ сем 2'\n",
            "'Colab Notebooks'      'Арсентьев ДУ сем 3'\n",
            " Laba9.rar\t       'Арсентьев ДУ сем 4'\n",
            " lenta-ru-news.csv     'Арсентьев ИУ6-21Б ДР на 23.03.2020'\n",
            " sasik.rar\t       'Ииду ДЗ Арсентьев'\n",
            "'Арсентьев 06.04.20'   'ИУ6-21Б РК1 Ииду Арсентьев Георгий'\n",
            "'Арсентьев 13.04.20'    КРиу6Арсентьев.pdf\n",
            "'Арсентьев2 06.04.20'   Практика.rar\n",
            "'Арсентьев2 13.04.20'  'РК1 ИУ6-21Б Арсентьев'\n",
            "'Арсентьев 30.03.20'   'РК2 Арсентьев ИУ6-21Б.pdf'\n",
            "'Арсентьев ДЗ2.pdf'     физика\n",
            "'Арсентьев Ду 1 сем'\n"
          ]
        }
      ]
    },
    {
      "cell_type": "code",
      "source": [
        "!cat /content/drive/MyDrive/lenta-ru-news.csv"
      ],
      "metadata": {
        "id": "lqfd0rji6Zmm"
      },
      "execution_count": null,
      "outputs": []
    },
    {
      "cell_type": "code",
      "source": [
        "news = pd.read_csv('/content/drive/MyDrive/lenta-ru-news.csv')\n",
        "news.describe()"
      ],
      "metadata": {
        "id": "3Ey8a2GzYWd9",
        "colab": {
          "base_uri": "https://localhost:8080/",
          "height": 291
        },
        "outputId": "48fe5999-a6fd-487e-9e82-94699ff2f44a"
      },
      "execution_count": null,
      "outputs": [
        {
          "output_type": "stream",
          "name": "stderr",
          "text": [
            "/usr/local/lib/python3.7/dist-packages/IPython/core/interactiveshell.py:2882: DtypeWarning: Columns (3) have mixed types.Specify dtype option on import or set low_memory=False.\n",
            "  exec(code_obj, self.user_global_ns, self.user_ns)\n"
          ]
        },
        {
          "output_type": "execute_result",
          "data": {
            "text/html": [
              "\n",
              "  <div id=\"df-ff68638d-8160-4d58-ae74-39a6ea578b94\">\n",
              "    <div class=\"colab-df-container\">\n",
              "      <div>\n",
              "<style scoped>\n",
              "    .dataframe tbody tr th:only-of-type {\n",
              "        vertical-align: middle;\n",
              "    }\n",
              "\n",
              "    .dataframe tbody tr th {\n",
              "        vertical-align: top;\n",
              "    }\n",
              "\n",
              "    .dataframe thead th {\n",
              "        text-align: right;\n",
              "    }\n",
              "</style>\n",
              "<table border=\"1\" class=\"dataframe\">\n",
              "  <thead>\n",
              "    <tr style=\"text-align: right;\">\n",
              "      <th></th>\n",
              "      <th>url</th>\n",
              "      <th>title</th>\n",
              "      <th>text</th>\n",
              "      <th>topic</th>\n",
              "      <th>tags</th>\n",
              "      <th>date</th>\n",
              "    </tr>\n",
              "  </thead>\n",
              "  <tbody>\n",
              "    <tr>\n",
              "      <th>count</th>\n",
              "      <td>800975</td>\n",
              "      <td>800975</td>\n",
              "      <td>800970</td>\n",
              "      <td>738973</td>\n",
              "      <td>773756</td>\n",
              "      <td>800975</td>\n",
              "    </tr>\n",
              "    <tr>\n",
              "      <th>unique</th>\n",
              "      <td>800964</td>\n",
              "      <td>797832</td>\n",
              "      <td>800037</td>\n",
              "      <td>23</td>\n",
              "      <td>94</td>\n",
              "      <td>7393</td>\n",
              "    </tr>\n",
              "    <tr>\n",
              "      <th>top</th>\n",
              "      <td>https://lenta.ru/news/2001/06/28/milosevic/</td>\n",
              "      <td>В Москве объявлено штормовое предупреждение</td>\n",
              "      <td>РИА \"Новости\"</td>\n",
              "      <td>Россия</td>\n",
              "      <td>Все</td>\n",
              "      <td>2019/12/05</td>\n",
              "    </tr>\n",
              "    <tr>\n",
              "      <th>freq</th>\n",
              "      <td>2</td>\n",
              "      <td>21</td>\n",
              "      <td>291</td>\n",
              "      <td>160445</td>\n",
              "      <td>453762</td>\n",
              "      <td>284</td>\n",
              "    </tr>\n",
              "  </tbody>\n",
              "</table>\n",
              "</div>\n",
              "      <button class=\"colab-df-convert\" onclick=\"convertToInteractive('df-ff68638d-8160-4d58-ae74-39a6ea578b94')\"\n",
              "              title=\"Convert this dataframe to an interactive table.\"\n",
              "              style=\"display:none;\">\n",
              "        \n",
              "  <svg xmlns=\"http://www.w3.org/2000/svg\" height=\"24px\"viewBox=\"0 0 24 24\"\n",
              "       width=\"24px\">\n",
              "    <path d=\"M0 0h24v24H0V0z\" fill=\"none\"/>\n",
              "    <path d=\"M18.56 5.44l.94 2.06.94-2.06 2.06-.94-2.06-.94-.94-2.06-.94 2.06-2.06.94zm-11 1L8.5 8.5l.94-2.06 2.06-.94-2.06-.94L8.5 2.5l-.94 2.06-2.06.94zm10 10l.94 2.06.94-2.06 2.06-.94-2.06-.94-.94-2.06-.94 2.06-2.06.94z\"/><path d=\"M17.41 7.96l-1.37-1.37c-.4-.4-.92-.59-1.43-.59-.52 0-1.04.2-1.43.59L10.3 9.45l-7.72 7.72c-.78.78-.78 2.05 0 2.83L4 21.41c.39.39.9.59 1.41.59.51 0 1.02-.2 1.41-.59l7.78-7.78 2.81-2.81c.8-.78.8-2.07 0-2.86zM5.41 20L4 18.59l7.72-7.72 1.47 1.35L5.41 20z\"/>\n",
              "  </svg>\n",
              "      </button>\n",
              "      \n",
              "  <style>\n",
              "    .colab-df-container {\n",
              "      display:flex;\n",
              "      flex-wrap:wrap;\n",
              "      gap: 12px;\n",
              "    }\n",
              "\n",
              "    .colab-df-convert {\n",
              "      background-color: #E8F0FE;\n",
              "      border: none;\n",
              "      border-radius: 50%;\n",
              "      cursor: pointer;\n",
              "      display: none;\n",
              "      fill: #1967D2;\n",
              "      height: 32px;\n",
              "      padding: 0 0 0 0;\n",
              "      width: 32px;\n",
              "    }\n",
              "\n",
              "    .colab-df-convert:hover {\n",
              "      background-color: #E2EBFA;\n",
              "      box-shadow: 0px 1px 2px rgba(60, 64, 67, 0.3), 0px 1px 3px 1px rgba(60, 64, 67, 0.15);\n",
              "      fill: #174EA6;\n",
              "    }\n",
              "\n",
              "    [theme=dark] .colab-df-convert {\n",
              "      background-color: #3B4455;\n",
              "      fill: #D2E3FC;\n",
              "    }\n",
              "\n",
              "    [theme=dark] .colab-df-convert:hover {\n",
              "      background-color: #434B5C;\n",
              "      box-shadow: 0px 1px 3px 1px rgba(0, 0, 0, 0.15);\n",
              "      filter: drop-shadow(0px 1px 2px rgba(0, 0, 0, 0.3));\n",
              "      fill: #FFFFFF;\n",
              "    }\n",
              "  </style>\n",
              "\n",
              "      <script>\n",
              "        const buttonEl =\n",
              "          document.querySelector('#df-ff68638d-8160-4d58-ae74-39a6ea578b94 button.colab-df-convert');\n",
              "        buttonEl.style.display =\n",
              "          google.colab.kernel.accessAllowed ? 'block' : 'none';\n",
              "\n",
              "        async function convertToInteractive(key) {\n",
              "          const element = document.querySelector('#df-ff68638d-8160-4d58-ae74-39a6ea578b94');\n",
              "          const dataTable =\n",
              "            await google.colab.kernel.invokeFunction('convertToInteractive',\n",
              "                                                     [key], {});\n",
              "          if (!dataTable) return;\n",
              "\n",
              "          const docLinkHtml = 'Like what you see? Visit the ' +\n",
              "            '<a target=\"_blank\" href=https://colab.research.google.com/notebooks/data_table.ipynb>data table notebook</a>'\n",
              "            + ' to learn more about interactive tables.';\n",
              "          element.innerHTML = '';\n",
              "          dataTable['output_type'] = 'display_data';\n",
              "          await google.colab.output.renderOutput(dataTable, element);\n",
              "          const docLink = document.createElement('div');\n",
              "          docLink.innerHTML = docLinkHtml;\n",
              "          element.appendChild(docLink);\n",
              "        }\n",
              "      </script>\n",
              "    </div>\n",
              "  </div>\n",
              "  "
            ],
            "text/plain": [
              "                                                url  ...        date\n",
              "count                                        800975  ...      800975\n",
              "unique                                       800964  ...        7393\n",
              "top     https://lenta.ru/news/2001/06/28/milosevic/  ...  2019/12/05\n",
              "freq                                              2  ...         284\n",
              "\n",
              "[4 rows x 6 columns]"
            ]
          },
          "metadata": {},
          "execution_count": 52
        }
      ]
    },
    {
      "cell_type": "code",
      "source": [
        "news.info()"
      ],
      "metadata": {
        "colab": {
          "base_uri": "https://localhost:8080/"
        },
        "id": "AjlPiiRi8ZXO",
        "outputId": "34b40c5f-15f0-43c3-cf58-45bfb5df1a0e"
      },
      "execution_count": null,
      "outputs": [
        {
          "output_type": "stream",
          "name": "stdout",
          "text": [
            "<class 'pandas.core.frame.DataFrame'>\n",
            "RangeIndex: 800975 entries, 0 to 800974\n",
            "Data columns (total 6 columns):\n",
            " #   Column  Non-Null Count   Dtype \n",
            "---  ------  --------------   ----- \n",
            " 0   url     800975 non-null  object\n",
            " 1   title   800975 non-null  object\n",
            " 2   text    800970 non-null  object\n",
            " 3   topic   738973 non-null  object\n",
            " 4   tags    773756 non-null  object\n",
            " 5   date    800975 non-null  object\n",
            "dtypes: object(6)\n",
            "memory usage: 36.7+ MB\n"
          ]
        }
      ]
    },
    {
      "cell_type": "code",
      "source": [
        "news.topic.unique()"
      ],
      "metadata": {
        "colab": {
          "base_uri": "https://localhost:8080/"
        },
        "id": "HIFBmH8N71J3",
        "outputId": "c4a84b89-77c6-496a-c760-b82ac87f915a"
      },
      "execution_count": null,
      "outputs": [
        {
          "output_type": "execute_result",
          "data": {
            "text/plain": [
              "array(['Библиотека', 'Россия', 'Мир', 'Экономика', 'Интернет и СМИ',\n",
              "       'Спорт', 'Культура', 'Из жизни', 'Силовые структуры',\n",
              "       'Наука и техника', 'Бывший СССР', nan, 'Дом', 'Сочи', 'ЧМ-2014',\n",
              "       'Путешествия', 'Ценности', 'Легпром', 'Бизнес', 'МедНовости',\n",
              "       'Оружие', '69-я параллель', 'Культпросвет ', 'Крым'], dtype=object)"
            ]
          },
          "metadata": {},
          "execution_count": 13
        }
      ]
    },
    {
      "cell_type": "code",
      "source": [
        "news.tags.unique()"
      ],
      "metadata": {
        "colab": {
          "base_uri": "https://localhost:8080/"
        },
        "id": "y1Bs_3V58ULD",
        "outputId": "4b9bbef4-c8f8-4dff-9890-827656eb2b4c"
      },
      "execution_count": null,
      "outputs": [
        {
          "output_type": "execute_result",
          "data": {
            "text/plain": [
              "array(['Первая мировая', 'Все', nan, 'Прибалтика', 'Кино', 'Преступность',\n",
              "       'Общество', 'Происшествия', 'Искусство', 'Бизнес', 'Техника',\n",
              "       'ТВ и радио', 'Политика', 'Пресса', 'Музыка', 'Люди', 'Звери',\n",
              "       'Игры', 'Госэкономика', 'Гаджеты', 'Наука', 'Еда', 'Рынки',\n",
              "       'Деньги', 'Летние виды', 'Интернет', 'Театр', 'Конфликты',\n",
              "       'Реклама', 'Космос', 'Бокс и ММА', 'Футбол', 'Книги',\n",
              "       'Зимние виды', 'Достижения', 'Coцсети', 'Вещи', 'События',\n",
              "       'Средняя Азия', 'Украина', 'Закавказье', 'Белоруссия', 'Молдавия',\n",
              "       'Софт', 'Квартира', 'Город', 'Дача', 'Офис', 'Оружие', 'Мнения',\n",
              "       'Москва', 'Регионы', 'Полиция и спецслужбы', 'Криминал',\n",
              "       'Следствие и суд', 'Движение', 'Производители', 'Мировой бизнес',\n",
              "       'Финансы компаний', 'Деловой климат', 'Мир', 'Россия', 'Часы',\n",
              "       'Явления', 'Стиль', 'Инструменты', 'Вооружение', 'Вкусы',\n",
              "       'Страноведение', 'Госрегулирование', 'История', 'Внешний вид',\n",
              "       'Автобизнес', 'Аналитика рынка', 'Туризм', 'Выборы', 'Экология',\n",
              "       'Мемы', 'Мировой опыт', 'Инновации', 'Хоккей', 'Вирусные ролики',\n",
              "       'Фотография', 'Авто', 'Наследие', 'Преступная Россия', 'Жизнь',\n",
              "       'Киберпреступность', 'Социальная сфера', 'Казахстан',\n",
              "       '69-я параллель', 'Экономика', 'Культура', 'Нацпроекты',\n",
              "       'Английский футбол'], dtype=object)"
            ]
          },
          "metadata": {},
          "execution_count": 16
        }
      ]
    },
    {
      "cell_type": "code",
      "source": [
        "news = news.drop(['url', 'date', 'tags', 'text'], axis=1) #text/title"
      ],
      "metadata": {
        "id": "eM8M9x4V8sIE"
      },
      "execution_count": null,
      "outputs": []
    },
    {
      "cell_type": "code",
      "source": [
        "news.info()"
      ],
      "metadata": {
        "colab": {
          "base_uri": "https://localhost:8080/"
        },
        "id": "oh5ZPraSGunL",
        "outputId": "892fe924-4547-4ff9-9132-24606358f251"
      },
      "execution_count": null,
      "outputs": [
        {
          "output_type": "stream",
          "name": "stdout",
          "text": [
            "<class 'pandas.core.frame.DataFrame'>\n",
            "RangeIndex: 800975 entries, 0 to 800974\n",
            "Data columns (total 2 columns):\n",
            " #   Column  Non-Null Count   Dtype \n",
            "---  ------  --------------   ----- \n",
            " 0   title   800975 non-null  object\n",
            " 1   topic   738973 non-null  object\n",
            "dtypes: object(2)\n",
            "memory usage: 12.2+ MB\n"
          ]
        }
      ]
    },
    {
      "cell_type": "code",
      "source": [
        "news.title.tail(10)"
      ],
      "metadata": {
        "colab": {
          "base_uri": "https://localhost:8080/"
        },
        "id": "MXg3ze4c9J3W",
        "outputId": "dd7af3ee-48a1-4f1d-8fdd-1a31208ccfd1"
      },
      "execution_count": null,
      "outputs": [
        {
          "output_type": "execute_result",
          "data": {
            "text/plain": [
              "800965    По делу об убийстве Шеремета арестовали еще дв...\n",
              "800966    Украину назвали инструментом Запада для войны ...\n",
              "800967              Выявлены вызывающие бессонницу продукты\n",
              "800968    Белоруссия одолжит у Китая 500 миллионов долларов\n",
              "800969    В WADA подтвердили право России на проведение ...\n",
              "800970            Шнуров раскритиковал Гагарину на «Голосе»\n",
              "800971    В России предложили изменить правила взыскания...\n",
              "800972            В России назвали «черную дату» для Европы\n",
              "800973          Россиянам пообещали аномально теплую погоду\n",
              "800974    В конкурсе прогнозов на АПЛ разыграют 100 тыся...\n",
              "Name: title, dtype: object"
            ]
          },
          "metadata": {},
          "execution_count": 5
        }
      ]
    },
    {
      "cell_type": "code",
      "source": [
        "news = news[news['topic'].isin(['Россия', 'Мир'])]\n",
        "news.info()"
      ],
      "metadata": {
        "id": "--AFCncG_fTV",
        "colab": {
          "base_uri": "https://localhost:8080/"
        },
        "outputId": "444763fa-63c2-4e90-9214-6387064a6070"
      },
      "execution_count": null,
      "outputs": [
        {
          "output_type": "stream",
          "name": "stdout",
          "text": [
            "<class 'pandas.core.frame.DataFrame'>\n",
            "Int64Index: 297066 entries, 5 to 739175\n",
            "Data columns (total 2 columns):\n",
            " #   Column  Non-Null Count   Dtype \n",
            "---  ------  --------------   ----- \n",
            " 0   title   297066 non-null  object\n",
            " 1   topic   297066 non-null  object\n",
            "dtypes: object(2)\n",
            "memory usage: 6.8+ MB\n"
          ]
        }
      ]
    },
    {
      "cell_type": "code",
      "source": [
        "news.topic.describe()"
      ],
      "metadata": {
        "colab": {
          "base_uri": "https://localhost:8080/"
        },
        "id": "AMNjpi0UG8Wd",
        "outputId": "f2d19027-d67e-477a-e0bb-9b9585bfb991"
      },
      "execution_count": null,
      "outputs": [
        {
          "output_type": "execute_result",
          "data": {
            "text/plain": [
              "count     297066\n",
              "unique         2\n",
              "top       Россия\n",
              "freq      160445\n",
              "Name: topic, dtype: object"
            ]
          },
          "metadata": {},
          "execution_count": 96
        }
      ]
    },
    {
      "cell_type": "code",
      "source": [
        "news = news.drop(['title', 'tags'], axis=1)\n",
        "news.info()"
      ],
      "metadata": {
        "colab": {
          "base_uri": "https://localhost:8080/"
        },
        "id": "ZJaqbpAph7kZ",
        "outputId": "7aa65e94-884a-4110-da26-0a0ec1014ab4"
      },
      "execution_count": null,
      "outputs": [
        {
          "output_type": "stream",
          "name": "stdout",
          "text": [
            "<class 'pandas.core.frame.DataFrame'>\n",
            "Int64Index: 547940 entries, 5 to 739175\n",
            "Data columns (total 2 columns):\n",
            " #   Column  Non-Null Count   Dtype \n",
            "---  ------  --------------   ----- \n",
            " 0   text    547935 non-null  object\n",
            " 1   topic   547940 non-null  object\n",
            "dtypes: object(2)\n",
            "memory usage: 12.5+ MB\n"
          ]
        }
      ]
    },
    {
      "cell_type": "code",
      "source": [
        "news[news['text'].isnull()]"
      ],
      "metadata": {
        "colab": {
          "base_uri": "https://localhost:8080/",
          "height": 203
        },
        "id": "czJJUP0jjE4I",
        "outputId": "bce70906-0788-471b-8b23-40b7579603aa"
      },
      "execution_count": null,
      "outputs": [
        {
          "output_type": "execute_result",
          "data": {
            "text/html": [
              "\n",
              "  <div id=\"df-44a84644-af04-4556-967f-8a3f1b9f9d3f\">\n",
              "    <div class=\"colab-df-container\">\n",
              "      <div>\n",
              "<style scoped>\n",
              "    .dataframe tbody tr th:only-of-type {\n",
              "        vertical-align: middle;\n",
              "    }\n",
              "\n",
              "    .dataframe tbody tr th {\n",
              "        vertical-align: top;\n",
              "    }\n",
              "\n",
              "    .dataframe thead th {\n",
              "        text-align: right;\n",
              "    }\n",
              "</style>\n",
              "<table border=\"1\" class=\"dataframe\">\n",
              "  <thead>\n",
              "    <tr style=\"text-align: right;\">\n",
              "      <th></th>\n",
              "      <th>text</th>\n",
              "      <th>topic</th>\n",
              "    </tr>\n",
              "  </thead>\n",
              "  <tbody>\n",
              "    <tr>\n",
              "      <th>150785</th>\n",
              "      <td>NaN</td>\n",
              "      <td>Россия</td>\n",
              "    </tr>\n",
              "    <tr>\n",
              "      <th>153075</th>\n",
              "      <td>NaN</td>\n",
              "      <td>Россия</td>\n",
              "    </tr>\n",
              "    <tr>\n",
              "      <th>153931</th>\n",
              "      <td>NaN</td>\n",
              "      <td>Мир</td>\n",
              "    </tr>\n",
              "    <tr>\n",
              "      <th>154591</th>\n",
              "      <td>NaN</td>\n",
              "      <td>Россия</td>\n",
              "    </tr>\n",
              "    <tr>\n",
              "      <th>582527</th>\n",
              "      <td>NaN</td>\n",
              "      <td>Культура</td>\n",
              "    </tr>\n",
              "  </tbody>\n",
              "</table>\n",
              "</div>\n",
              "      <button class=\"colab-df-convert\" onclick=\"convertToInteractive('df-44a84644-af04-4556-967f-8a3f1b9f9d3f')\"\n",
              "              title=\"Convert this dataframe to an interactive table.\"\n",
              "              style=\"display:none;\">\n",
              "        \n",
              "  <svg xmlns=\"http://www.w3.org/2000/svg\" height=\"24px\"viewBox=\"0 0 24 24\"\n",
              "       width=\"24px\">\n",
              "    <path d=\"M0 0h24v24H0V0z\" fill=\"none\"/>\n",
              "    <path d=\"M18.56 5.44l.94 2.06.94-2.06 2.06-.94-2.06-.94-.94-2.06-.94 2.06-2.06.94zm-11 1L8.5 8.5l.94-2.06 2.06-.94-2.06-.94L8.5 2.5l-.94 2.06-2.06.94zm10 10l.94 2.06.94-2.06 2.06-.94-2.06-.94-.94-2.06-.94 2.06-2.06.94z\"/><path d=\"M17.41 7.96l-1.37-1.37c-.4-.4-.92-.59-1.43-.59-.52 0-1.04.2-1.43.59L10.3 9.45l-7.72 7.72c-.78.78-.78 2.05 0 2.83L4 21.41c.39.39.9.59 1.41.59.51 0 1.02-.2 1.41-.59l7.78-7.78 2.81-2.81c.8-.78.8-2.07 0-2.86zM5.41 20L4 18.59l7.72-7.72 1.47 1.35L5.41 20z\"/>\n",
              "  </svg>\n",
              "      </button>\n",
              "      \n",
              "  <style>\n",
              "    .colab-df-container {\n",
              "      display:flex;\n",
              "      flex-wrap:wrap;\n",
              "      gap: 12px;\n",
              "    }\n",
              "\n",
              "    .colab-df-convert {\n",
              "      background-color: #E8F0FE;\n",
              "      border: none;\n",
              "      border-radius: 50%;\n",
              "      cursor: pointer;\n",
              "      display: none;\n",
              "      fill: #1967D2;\n",
              "      height: 32px;\n",
              "      padding: 0 0 0 0;\n",
              "      width: 32px;\n",
              "    }\n",
              "\n",
              "    .colab-df-convert:hover {\n",
              "      background-color: #E2EBFA;\n",
              "      box-shadow: 0px 1px 2px rgba(60, 64, 67, 0.3), 0px 1px 3px 1px rgba(60, 64, 67, 0.15);\n",
              "      fill: #174EA6;\n",
              "    }\n",
              "\n",
              "    [theme=dark] .colab-df-convert {\n",
              "      background-color: #3B4455;\n",
              "      fill: #D2E3FC;\n",
              "    }\n",
              "\n",
              "    [theme=dark] .colab-df-convert:hover {\n",
              "      background-color: #434B5C;\n",
              "      box-shadow: 0px 1px 3px 1px rgba(0, 0, 0, 0.15);\n",
              "      filter: drop-shadow(0px 1px 2px rgba(0, 0, 0, 0.3));\n",
              "      fill: #FFFFFF;\n",
              "    }\n",
              "  </style>\n",
              "\n",
              "      <script>\n",
              "        const buttonEl =\n",
              "          document.querySelector('#df-44a84644-af04-4556-967f-8a3f1b9f9d3f button.colab-df-convert');\n",
              "        buttonEl.style.display =\n",
              "          google.colab.kernel.accessAllowed ? 'block' : 'none';\n",
              "\n",
              "        async function convertToInteractive(key) {\n",
              "          const element = document.querySelector('#df-44a84644-af04-4556-967f-8a3f1b9f9d3f');\n",
              "          const dataTable =\n",
              "            await google.colab.kernel.invokeFunction('convertToInteractive',\n",
              "                                                     [key], {});\n",
              "          if (!dataTable) return;\n",
              "\n",
              "          const docLinkHtml = 'Like what you see? Visit the ' +\n",
              "            '<a target=\"_blank\" href=https://colab.research.google.com/notebooks/data_table.ipynb>data table notebook</a>'\n",
              "            + ' to learn more about interactive tables.';\n",
              "          element.innerHTML = '';\n",
              "          dataTable['output_type'] = 'display_data';\n",
              "          await google.colab.output.renderOutput(dataTable, element);\n",
              "          const docLink = document.createElement('div');\n",
              "          docLink.innerHTML = docLinkHtml;\n",
              "          element.appendChild(docLink);\n",
              "        }\n",
              "      </script>\n",
              "    </div>\n",
              "  </div>\n",
              "  "
            ],
            "text/plain": [
              "       text     topic\n",
              "150785  NaN    Россия\n",
              "153075  NaN    Россия\n",
              "153931  NaN       Мир\n",
              "154591  NaN    Россия\n",
              "582527  NaN  Культура"
            ]
          },
          "metadata": {},
          "execution_count": 24
        }
      ]
    },
    {
      "cell_type": "code",
      "source": [
        " news = news.dropna(axis=0)\n",
        " news.info()"
      ],
      "metadata": {
        "colab": {
          "base_uri": "https://localhost:8080/"
        },
        "id": "ccOFtZ0nm7yQ",
        "outputId": "66ccfbf3-9ebb-4600-ab82-c9b3ccd0a01e"
      },
      "execution_count": null,
      "outputs": [
        {
          "output_type": "stream",
          "name": "stdout",
          "text": [
            "<class 'pandas.core.frame.DataFrame'>\n",
            "Int64Index: 738973 entries, 0 to 739175\n",
            "Data columns (total 2 columns):\n",
            " #   Column  Non-Null Count   Dtype \n",
            "---  ------  --------------   ----- \n",
            " 0   title   738973 non-null  object\n",
            " 1   topic   738973 non-null  object\n",
            "dtypes: object(2)\n",
            "memory usage: 16.9+ MB\n"
          ]
        }
      ]
    },
    {
      "cell_type": "code",
      "source": [
        "news.tail()"
      ],
      "metadata": {
        "colab": {
          "base_uri": "https://localhost:8080/",
          "height": 206
        },
        "id": "Cl52OyOeHf4R",
        "outputId": "cc0ec3eb-5861-4e89-e309-c104a9d9962f"
      },
      "execution_count": null,
      "outputs": [
        {
          "output_type": "execute_result",
          "data": {
            "text/html": [
              "\n",
              "  <div id=\"df-c6a99013-dc17-4af3-8b03-07e8e88f7e9d\">\n",
              "    <div class=\"colab-df-container\">\n",
              "      <div>\n",
              "<style scoped>\n",
              "    .dataframe tbody tr th:only-of-type {\n",
              "        vertical-align: middle;\n",
              "    }\n",
              "\n",
              "    .dataframe tbody tr th {\n",
              "        vertical-align: top;\n",
              "    }\n",
              "\n",
              "    .dataframe thead th {\n",
              "        text-align: right;\n",
              "    }\n",
              "</style>\n",
              "<table border=\"1\" class=\"dataframe\">\n",
              "  <thead>\n",
              "    <tr style=\"text-align: right;\">\n",
              "      <th></th>\n",
              "      <th>title</th>\n",
              "      <th>topic</th>\n",
              "    </tr>\n",
              "  </thead>\n",
              "  <tbody>\n",
              "    <tr>\n",
              "      <th>739164</th>\n",
              "      <td>Главная реформа Обамы признана неконституционной</td>\n",
              "      <td>Мир</td>\n",
              "    </tr>\n",
              "    <tr>\n",
              "      <th>739166</th>\n",
              "      <td>Россия предложила Китаю участвовать в судьбе р...</td>\n",
              "      <td>Мир</td>\n",
              "    </tr>\n",
              "    <tr>\n",
              "      <th>739169</th>\n",
              "      <td>Путин подарил тяжелобольному мальчику обещанны...</td>\n",
              "      <td>Россия</td>\n",
              "    </tr>\n",
              "    <tr>\n",
              "      <th>739171</th>\n",
              "      <td>«Желтые жилеты» прорвали кордон полиции под «М...</td>\n",
              "      <td>Мир</td>\n",
              "    </tr>\n",
              "    <tr>\n",
              "      <th>739175</th>\n",
              "      <td>Путин порассуждал о сексе, наркотиках и протес...</td>\n",
              "      <td>Россия</td>\n",
              "    </tr>\n",
              "  </tbody>\n",
              "</table>\n",
              "</div>\n",
              "      <button class=\"colab-df-convert\" onclick=\"convertToInteractive('df-c6a99013-dc17-4af3-8b03-07e8e88f7e9d')\"\n",
              "              title=\"Convert this dataframe to an interactive table.\"\n",
              "              style=\"display:none;\">\n",
              "        \n",
              "  <svg xmlns=\"http://www.w3.org/2000/svg\" height=\"24px\"viewBox=\"0 0 24 24\"\n",
              "       width=\"24px\">\n",
              "    <path d=\"M0 0h24v24H0V0z\" fill=\"none\"/>\n",
              "    <path d=\"M18.56 5.44l.94 2.06.94-2.06 2.06-.94-2.06-.94-.94-2.06-.94 2.06-2.06.94zm-11 1L8.5 8.5l.94-2.06 2.06-.94-2.06-.94L8.5 2.5l-.94 2.06-2.06.94zm10 10l.94 2.06.94-2.06 2.06-.94-2.06-.94-.94-2.06-.94 2.06-2.06.94z\"/><path d=\"M17.41 7.96l-1.37-1.37c-.4-.4-.92-.59-1.43-.59-.52 0-1.04.2-1.43.59L10.3 9.45l-7.72 7.72c-.78.78-.78 2.05 0 2.83L4 21.41c.39.39.9.59 1.41.59.51 0 1.02-.2 1.41-.59l7.78-7.78 2.81-2.81c.8-.78.8-2.07 0-2.86zM5.41 20L4 18.59l7.72-7.72 1.47 1.35L5.41 20z\"/>\n",
              "  </svg>\n",
              "      </button>\n",
              "      \n",
              "  <style>\n",
              "    .colab-df-container {\n",
              "      display:flex;\n",
              "      flex-wrap:wrap;\n",
              "      gap: 12px;\n",
              "    }\n",
              "\n",
              "    .colab-df-convert {\n",
              "      background-color: #E8F0FE;\n",
              "      border: none;\n",
              "      border-radius: 50%;\n",
              "      cursor: pointer;\n",
              "      display: none;\n",
              "      fill: #1967D2;\n",
              "      height: 32px;\n",
              "      padding: 0 0 0 0;\n",
              "      width: 32px;\n",
              "    }\n",
              "\n",
              "    .colab-df-convert:hover {\n",
              "      background-color: #E2EBFA;\n",
              "      box-shadow: 0px 1px 2px rgba(60, 64, 67, 0.3), 0px 1px 3px 1px rgba(60, 64, 67, 0.15);\n",
              "      fill: #174EA6;\n",
              "    }\n",
              "\n",
              "    [theme=dark] .colab-df-convert {\n",
              "      background-color: #3B4455;\n",
              "      fill: #D2E3FC;\n",
              "    }\n",
              "\n",
              "    [theme=dark] .colab-df-convert:hover {\n",
              "      background-color: #434B5C;\n",
              "      box-shadow: 0px 1px 3px 1px rgba(0, 0, 0, 0.15);\n",
              "      filter: drop-shadow(0px 1px 2px rgba(0, 0, 0, 0.3));\n",
              "      fill: #FFFFFF;\n",
              "    }\n",
              "  </style>\n",
              "\n",
              "      <script>\n",
              "        const buttonEl =\n",
              "          document.querySelector('#df-c6a99013-dc17-4af3-8b03-07e8e88f7e9d button.colab-df-convert');\n",
              "        buttonEl.style.display =\n",
              "          google.colab.kernel.accessAllowed ? 'block' : 'none';\n",
              "\n",
              "        async function convertToInteractive(key) {\n",
              "          const element = document.querySelector('#df-c6a99013-dc17-4af3-8b03-07e8e88f7e9d');\n",
              "          const dataTable =\n",
              "            await google.colab.kernel.invokeFunction('convertToInteractive',\n",
              "                                                     [key], {});\n",
              "          if (!dataTable) return;\n",
              "\n",
              "          const docLinkHtml = 'Like what you see? Visit the ' +\n",
              "            '<a target=\"_blank\" href=https://colab.research.google.com/notebooks/data_table.ipynb>data table notebook</a>'\n",
              "            + ' to learn more about interactive tables.';\n",
              "          element.innerHTML = '';\n",
              "          dataTable['output_type'] = 'display_data';\n",
              "          await google.colab.output.renderOutput(dataTable, element);\n",
              "          const docLink = document.createElement('div');\n",
              "          docLink.innerHTML = docLinkHtml;\n",
              "          element.appendChild(docLink);\n",
              "        }\n",
              "      </script>\n",
              "    </div>\n",
              "  </div>\n",
              "  "
            ],
            "text/plain": [
              "                                                    title   topic\n",
              "739164   Главная реформа Обамы признана неконституционной     Мир\n",
              "739166  Россия предложила Китаю участвовать в судьбе р...     Мир\n",
              "739169  Путин подарил тяжелобольному мальчику обещанны...  Россия\n",
              "739171  «Желтые жилеты» прорвали кордон полиции под «М...     Мир\n",
              "739175  Путин порассуждал о сексе, наркотиках и протес...  Россия"
            ]
          },
          "metadata": {},
          "execution_count": 57
        }
      ]
    },
    {
      "cell_type": "code",
      "source": [
        "news['topic'].hist()"
      ],
      "metadata": {
        "colab": {
          "base_uri": "https://localhost:8080/",
          "height": 282
        },
        "id": "pr50zElYnIsF",
        "outputId": "8881700e-24e8-4290-b7fc-3bcf3b470e0b"
      },
      "execution_count": null,
      "outputs": [
        {
          "output_type": "execute_result",
          "data": {
            "text/plain": [
              "<matplotlib.axes._subplots.AxesSubplot at 0x7f91c3519790>"
            ]
          },
          "metadata": {},
          "execution_count": 58
        },
        {
          "output_type": "display_data",
          "data": {
            "image/png": "[encoded data removed]",
            "text/plain": [
              "<Figure size 432x288 with 1 Axes>"
            ]
          },
          "metadata": {
            "needs_background": "light"
          }
        }
      ]
    },
    {
      "cell_type": "code",
      "source": [
        "#X_batch = news.title.tail(10000).to_list()\n",
        "#y_batch = news.topic.tail(10000).to_list()\n",
        "X_batch = news.title.to_list()\n",
        "y_batch = news.topic.to_list()"
      ],
      "metadata": {
        "id": "6tn4GI0xVUtu"
      },
      "execution_count": null,
      "outputs": []
    },
    {
      "cell_type": "code",
      "source": [
        "clf3 = TextBayes()\n",
        "d3 = clf3.fit(X_batch, y_batch)"
      ],
      "metadata": {
        "id": "lEfj6QXQYAvX"
      },
      "execution_count": null,
      "outputs": []
    },
    {
      "cell_type": "code",
      "source": [
        "clf2 = TextBayes()\n",
        "d2 = clf2.fit(X_batch, y_batch)"
      ],
      "metadata": {
        "id": "QNR9CN-SR5l-"
      },
      "execution_count": null,
      "outputs": []
    },
    {
      "cell_type": "code",
      "source": [
        "clf = TextBayes()\n",
        "d = clf.fit(X_batch, y_batch)"
      ],
      "metadata": {
        "id": "8mC1UXgvJcBG"
      },
      "execution_count": null,
      "outputs": []
    },
    {
      "cell_type": "code",
      "source": [
        "import sys\n",
        "sys.getsizeof(d)/1024/1024"
      ],
      "metadata": {
        "id": "wWC0Akr7q4e7"
      },
      "execution_count": null,
      "outputs": []
    },
    {
      "cell_type": "code",
      "source": [
        "print('1: {}, 2: {}, 3: {}'.format(len(d),len(d2),len(d3)))"
      ],
      "metadata": {
        "colab": {
          "base_uri": "https://localhost:8080/"
        },
        "id": "UsH7pqRRas8p",
        "outputId": "4d05c923-f491-434c-a355-79d76c3c6f67"
      },
      "execution_count": null,
      "outputs": [
        {
          "output_type": "stream",
          "name": "stdout",
          "text": [
            "1: 42792, 2: 90421, 3: 41163\n"
          ]
        }
      ]
    },
    {
      "cell_type": "code",
      "source": [
        "chr(ord('а')+31)\n",
        "letters = [chr(ord('а')+i) for i in range(31)]\n",
        "letters.append('ё')\n",
        "letters.append(' ')\n",
        "letters"
      ],
      "metadata": {
        "id": "HClwWANwipnG",
        "colab": {
          "base_uri": "https://localhost:8080/"
        },
        "outputId": "9f7bc6a9-deec-4a89-9eaf-4cbe0b0b2e40"
      },
      "execution_count": null,
      "outputs": [
        {
          "output_type": "execute_result",
          "data": {
            "text/plain": [
              "['а',\n",
              " 'б',\n",
              " 'в',\n",
              " 'г',\n",
              " 'д',\n",
              " 'е',\n",
              " 'ж',\n",
              " 'з',\n",
              " 'и',\n",
              " 'й',\n",
              " 'к',\n",
              " 'л',\n",
              " 'м',\n",
              " 'н',\n",
              " 'о',\n",
              " 'п',\n",
              " 'р',\n",
              " 'с',\n",
              " 'т',\n",
              " 'у',\n",
              " 'ф',\n",
              " 'х',\n",
              " 'ц',\n",
              " 'ч',\n",
              " 'ш',\n",
              " 'щ',\n",
              " 'ъ',\n",
              " 'ы',\n",
              " 'ь',\n",
              " 'э',\n",
              " 'ю',\n",
              " 'ё',\n",
              " ' ']"
            ]
          },
          "metadata": {},
          "execution_count": 15
        }
      ]
    },
    {
      "cell_type": "code",
      "source": [
        "from nltk.stem.snowball import SnowballStemmer\n",
        "from nltk.corpus import stopwords\n",
        "from nltk.stem.porter import PorterStemmer\n",
        "import nltk\n",
        "from collections import Counter\n",
        "nltk.download('stopwords')\n",
        "ps = PorterStemmer()"
      ],
      "metadata": {
        "colab": {
          "base_uri": "https://localhost:8080/"
        },
        "id": "_vHNqtLhXEE_",
        "outputId": "84b074eb-1a16-47a3-f476-5e9c3b2e1cb5"
      },
      "execution_count": null,
      "outputs": [
        {
          "output_type": "stream",
          "name": "stdout",
          "text": [
            "[nltk_data] Downloading package stopwords to /root/nltk_data...\n",
            "[nltk_data]   Unzipping corpora/stopwords.zip.\n"
          ]
        }
      ]
    },
    {
      "cell_type": "code",
      "source": [
        "loh = TextBayes()\n",
        "loh.fit(X_batch, y_batch)"
      ],
      "metadata": {
        "id": "C-jvSzbwv-Pe"
      },
      "execution_count": null,
      "outputs": []
    },
    {
      "cell_type": "code",
      "source": [
        "y_predicted = [loh.predict(string) for string in X_batch]"
      ],
      "metadata": {
        "id": "gT_Vtdx1J4Wn"
      },
      "execution_count": null,
      "outputs": []
    },
    {
      "cell_type": "code",
      "source": [
        "def choose(d):\n",
        "  if d.get('Россия') > d.get('Мир'):\n",
        "    return 'Россия'\n",
        "  else:\n",
        "    return 'Мир'\n",
        "\n",
        "y_predicted_new = [choose(p) for p in y_predicted]"
      ],
      "metadata": {
        "id": "P0B3r2P2Om50"
      },
      "execution_count": null,
      "outputs": []
    },
    {
      "cell_type": "code",
      "source": [
        "x_test = news.title.tail(20).to_list()\n",
        "x_test"
      ],
      "metadata": {
        "id": "9uWH9fNFT34O"
      },
      "execution_count": null,
      "outputs": []
    },
    {
      "cell_type": "code",
      "source": [
        "for item in x_test:\n",
        "  print(item, loh.predict(item))"
      ],
      "metadata": {
        "id": "X62cLRI7UO_s"
      },
      "execution_count": null,
      "outputs": []
    },
    {
      "cell_type": "code",
      "source": [
        "up = down = 0\n",
        "for i in range(len(y_batch)):\n",
        "  down += 1\n",
        "  if y_batch[i] == y_predicted_new[i]:\n",
        "    up += 1\n",
        "accuracy = up/down\n",
        "accuracy"
      ],
      "metadata": {
        "colab": {
          "base_uri": "https://localhost:8080/"
        },
        "id": "nwerx_OINoes",
        "outputId": "52295478-d8cf-422b-af85-e195045d2cdd"
      },
      "execution_count": null,
      "outputs": [
        {
          "output_type": "execute_result",
          "data": {
            "text/plain": [
              "0.9089023987935341"
            ]
          },
          "metadata": {},
          "execution_count": 252
        }
      ]
    },
    {
      "cell_type": "code",
      "source": [
        "print(y_batch[0])\n",
        "print(y_predicted[0])"
      ],
      "metadata": {
        "colab": {
          "base_uri": "https://localhost:8080/"
        },
        "id": "t3gOBol_OEuj",
        "outputId": "d46a05f8-1c75-4f88-bb5b-4a735fcd74e2"
      },
      "execution_count": null,
      "outputs": [
        {
          "output_type": "stream",
          "name": "stdout",
          "text": [
            "Россия\n",
            "{'Россия': 0.6185702091805172, 'Мир': 0.3814297908194831}\n"
          ]
        }
      ]
    },
    {
      "cell_type": "code",
      "source": [
        "stopwords.words('russian')"
      ],
      "metadata": {
        "colab": {
          "base_uri": "https://localhost:8080/"
        },
        "id": "IL9xkO_nAuh9",
        "outputId": "b32b51bf-1252-4cd1-bfa2-6c193f527a5b"
      },
      "execution_count": null,
      "outputs": [
        {
          "output_type": "execute_result",
          "data": {
            "text/plain": [
              "['и',\n",
              " 'в',\n",
              " 'во',\n",
              " 'не',\n",
              " 'что',\n",
              " 'он',\n",
              " 'на',\n",
              " 'я',\n",
              " 'с',\n",
              " 'со',\n",
              " 'как',\n",
              " 'а',\n",
              " 'то',\n",
              " 'все',\n",
              " 'она',\n",
              " 'так',\n",
              " 'его',\n",
              " 'но',\n",
              " 'да',\n",
              " 'ты',\n",
              " 'к',\n",
              " 'у',\n",
              " 'же',\n",
              " 'вы',\n",
              " 'за',\n",
              " 'бы',\n",
              " 'по',\n",
              " 'только',\n",
              " 'ее',\n",
              " 'мне',\n",
              " 'было',\n",
              " 'вот',\n",
              " 'от',\n",
              " 'меня',\n",
              " 'еще',\n",
              " 'нет',\n",
              " 'о',\n",
              " 'из',\n",
              " 'ему',\n",
              " 'теперь',\n",
              " 'когда',\n",
              " 'даже',\n",
              " 'ну',\n",
              " 'вдруг',\n",
              " 'ли',\n",
              " 'если',\n",
              " 'уже',\n",
              " 'или',\n",
              " 'ни',\n",
              " 'быть',\n",
              " 'был',\n",
              " 'него',\n",
              " 'до',\n",
              " 'вас',\n",
              " 'нибудь',\n",
              " 'опять',\n",
              " 'уж',\n",
              " 'вам',\n",
              " 'ведь',\n",
              " 'там',\n",
              " 'потом',\n",
              " 'себя',\n",
              " 'ничего',\n",
              " 'ей',\n",
              " 'может',\n",
              " 'они',\n",
              " 'тут',\n",
              " 'где',\n",
              " 'есть',\n",
              " 'надо',\n",
              " 'ней',\n",
              " 'для',\n",
              " 'мы',\n",
              " 'тебя',\n",
              " 'их',\n",
              " 'чем',\n",
              " 'была',\n",
              " 'сам',\n",
              " 'чтоб',\n",
              " 'без',\n",
              " 'будто',\n",
              " 'чего',\n",
              " 'раз',\n",
              " 'тоже',\n",
              " 'себе',\n",
              " 'под',\n",
              " 'будет',\n",
              " 'ж',\n",
              " 'тогда',\n",
              " 'кто',\n",
              " 'этот',\n",
              " 'того',\n",
              " 'потому',\n",
              " 'этого',\n",
              " 'какой',\n",
              " 'совсем',\n",
              " 'ним',\n",
              " 'здесь',\n",
              " 'этом',\n",
              " 'один',\n",
              " 'почти',\n",
              " 'мой',\n",
              " 'тем',\n",
              " 'чтобы',\n",
              " 'нее',\n",
              " 'сейчас',\n",
              " 'были',\n",
              " 'куда',\n",
              " 'зачем',\n",
              " 'всех',\n",
              " 'никогда',\n",
              " 'можно',\n",
              " 'при',\n",
              " 'наконец',\n",
              " 'два',\n",
              " 'об',\n",
              " 'другой',\n",
              " 'хоть',\n",
              " 'после',\n",
              " 'над',\n",
              " 'больше',\n",
              " 'тот',\n",
              " 'через',\n",
              " 'эти',\n",
              " 'нас',\n",
              " 'про',\n",
              " 'всего',\n",
              " 'них',\n",
              " 'какая',\n",
              " 'много',\n",
              " 'разве',\n",
              " 'три',\n",
              " 'эту',\n",
              " 'моя',\n",
              " 'впрочем',\n",
              " 'хорошо',\n",
              " 'свою',\n",
              " 'этой',\n",
              " 'перед',\n",
              " 'иногда',\n",
              " 'лучше',\n",
              " 'чуть',\n",
              " 'том',\n",
              " 'нельзя',\n",
              " 'такой',\n",
              " 'им',\n",
              " 'более',\n",
              " 'всегда',\n",
              " 'конечно',\n",
              " 'всю',\n",
              " 'между']"
            ]
          },
          "metadata": {},
          "execution_count": 36
        }
      ]
    },
    {
      "cell_type": "code",
      "source": [
        "obj = clf_new.data\n",
        "with open('obj.p', 'wb') as f:\n",
        "  pickle.dump(obj, f)"
      ],
      "metadata": {
        "id": "klGFHVZdGsEG"
      },
      "execution_count": null,
      "outputs": []
    },
    {
      "cell_type": "code",
      "source": [
        "from nltk.stem.snowball import SnowballStemmer\n",
        "from collections import Counter\n",
        "\n",
        "\n",
        "class TextBayes():\n",
        "\n",
        "  def __init__(self):\n",
        "    self.stemmer = SnowballStemmer(\"russian\")\n",
        "    self.data = dict()\n",
        "    self.words = ['и',\n",
        " 'в',\n",
        " 'во',\n",
        " 'не',\n",
        " 'что',\n",
        " 'он',\n",
        " 'на',\n",
        " 'я',\n",
        " 'с',\n",
        " 'со',\n",
        " 'как',\n",
        " 'а',\n",
        " 'то',\n",
        " 'все',\n",
        " 'она',\n",
        " 'так',\n",
        " 'его',\n",
        " 'но',\n",
        " 'да',\n",
        " 'ты',\n",
        " 'к',\n",
        " 'у',\n",
        " 'же',\n",
        " 'вы',\n",
        " 'за',\n",
        " 'бы',\n",
        " 'по',\n",
        " 'только',\n",
        " 'ее',\n",
        " 'мне',\n",
        " 'было',\n",
        " 'вот',\n",
        " 'от',\n",
        " 'меня',\n",
        " 'еще',\n",
        " 'нет',\n",
        " 'о',\n",
        " 'из',\n",
        " 'ему',\n",
        " 'теперь',\n",
        " 'когда',\n",
        " 'даже',\n",
        " 'ну',\n",
        " 'вдруг',\n",
        " 'ли',\n",
        " 'если',\n",
        " 'уже',\n",
        " 'или',\n",
        " 'ни',\n",
        " 'быть',\n",
        " 'был',\n",
        " 'него',\n",
        " 'до',\n",
        " 'вас',\n",
        " 'нибудь',\n",
        " 'опять',\n",
        " 'уж',\n",
        " 'вам',\n",
        " 'ведь',\n",
        " 'там',\n",
        " 'потом',\n",
        " 'себя',\n",
        " 'ничего',\n",
        " 'ей',\n",
        " 'может',\n",
        " 'они',\n",
        " 'тут',\n",
        " 'где',\n",
        " 'есть',\n",
        " 'надо',\n",
        " 'ней',\n",
        " 'для',\n",
        " 'мы',\n",
        " 'тебя',\n",
        " 'их',\n",
        " 'чем',\n",
        " 'была',\n",
        " 'сам',\n",
        " 'чтоб',\n",
        " 'без',\n",
        " 'будто',\n",
        " 'чего',\n",
        " 'раз',\n",
        " 'тоже',\n",
        " 'себе',\n",
        " 'под',\n",
        " 'будет',\n",
        " 'ж',\n",
        " 'тогда',\n",
        " 'кто',\n",
        " 'этот',\n",
        " 'того',\n",
        " 'потому',\n",
        " 'этого',\n",
        " 'какой',\n",
        " 'совсем',\n",
        " 'ним',\n",
        " 'здесь',\n",
        " 'этом',\n",
        " 'один',\n",
        " 'почти',\n",
        " 'мой',\n",
        " 'тем',\n",
        " 'чтобы',\n",
        " 'нее',\n",
        " 'сейчас',\n",
        " 'были',\n",
        " 'куда',\n",
        " 'зачем',\n",
        " 'всех',\n",
        " 'никогда',\n",
        " 'можно',\n",
        " 'при',\n",
        " 'наконец',\n",
        " 'два',\n",
        " 'об',\n",
        " 'другой',\n",
        " 'хоть',\n",
        " 'после',\n",
        " 'над',\n",
        " 'больше',\n",
        " 'тот',\n",
        " 'через',\n",
        " 'эти',\n",
        " 'нас',\n",
        " 'про',\n",
        " 'всего',\n",
        " 'них',\n",
        " 'какая',\n",
        " 'много',\n",
        " 'разве',\n",
        " 'три',\n",
        " 'эту',\n",
        " 'моя',\n",
        " 'впрочем',\n",
        " 'хорошо',\n",
        " 'свою',\n",
        " 'этой',\n",
        " 'перед',\n",
        " 'иногда',\n",
        " 'лучше',\n",
        " 'чуть',\n",
        " 'том',\n",
        " 'нельзя',\n",
        " 'такой',\n",
        " 'им',\n",
        " 'более',\n",
        " 'всегда',\n",
        " 'конечно',\n",
        " 'всю',\n",
        " 'между']\n",
        "    self.letters = ['а','б','в','г','д','е','ж','з','и','й','к','л','м','н','о','п','р','с','т','у','ф','х','ц','ч','ш','щ','ъ','ы','ь','э','ю','ё',' ']\n",
        "\n",
        "  def fit(self, X_batch: list, y_batch: list):\n",
        "    self.counts = dict(Counter(y_batch))\n",
        "    self.all_counts = len(y_batch)\n",
        "    for item_number in range(len(X_batch)):\n",
        "      if item_number % 10000 == 0:\n",
        "        print((100*item_number/self.all_counts), '%')\n",
        "      for word in self.process(X_batch[item_number]):\n",
        "        if self.data.get(word) is None:\n",
        "          self.data[word] = {tag: 0 for tag in self.counts}\n",
        "          self.data[word][y_batch[item_number]] = 1\n",
        "        else:\n",
        "          self.data[word][y_batch[item_number]] += 1\n",
        "    return(self.data)\n",
        "  \n",
        "  def get_settings(self):\n",
        "    return [self.data, self.counts, self.all_counts]\n",
        "\n",
        "  def set_settings(self, ar):\n",
        "    self.data = ar[0]\n",
        "    self.counts = ar[1]\n",
        "    self.all_counts = ar[2]\n",
        "\n",
        "  def set_dict(self, input_dict: dict):\n",
        "    self.data = input_dict\n",
        "\n",
        "  def get_prior(self) -> dict:\n",
        "    self.prior = dict()\n",
        "    for tag in self.counts:\n",
        "      self.prior[tag] = self.counts[tag]/self.all_counts\n",
        "    return self.prior\n",
        "\n",
        "  def get_likelhood(self, word: str) -> dict:\n",
        "    likelhood = dict()\n",
        "    for tag in self.counts:\n",
        "      likelhood[tag] = self.data[word][tag]/self.counts[tag]\n",
        "    return likelhood\n",
        "\n",
        "  def get_reverse_likelhood(self, word: str) -> dict:\n",
        "    reverse_likelhood = dict()\n",
        "    for tag in self.counts:\n",
        "      reverse_likelhood[tag] = (sum(self.data[word].values()) - self.data[word][tag])/(sum(self.counts.values()) - self.counts[tag])\n",
        "    return reverse_likelhood\n",
        "\n",
        "  def get_posterior(self, word: str) -> dict: \n",
        "    prior = self.get_prior()\n",
        "    likelhood = self.get_likelhood(word)\n",
        "    reverse_likelhood = self.get_reverse_likelhood(word)\n",
        "    post_dict = dict()\n",
        "    for tag in self.data[word]:\n",
        "      post_dict[tag] = likelhood[tag]*prior[tag]/(likelhood[tag]*prior[tag] + reverse_likelhood[tag]*(1-prior[tag]))\n",
        "    return post_dict\n",
        "\n",
        "  def predict(self, input_str: str) -> dict:\n",
        "    predicted_dict = dict()\n",
        "    words = self.process(input_str)\n",
        "    for tag in self.counts:\n",
        "      posterior_list = list()\n",
        "      for word in words:\n",
        "        if self.data.get(word) is not None:\n",
        "          posterior_list.append(self.get_posterior(word).get(tag))\n",
        "      predicted_dict[tag] = self.final_bayes(posterior_list, self.get_prior()[tag], len(words))\n",
        "    return predicted_dict\n",
        "\n",
        "  def process(self, input_str: str) -> list:\n",
        "    input_str = input_str.lower()\n",
        "    for l in input_str:\n",
        "      if l not in self.letters:\n",
        "        input_str = input_str.replace(l, ' ')\n",
        "    words = input_str.split() \n",
        "    return [self.stemmer.stem(word) for word in words if word not in self.words]\n",
        "\n",
        "  def final_bayes(self, p : list, pS, N, delta=0.00000000001) -> float:\n",
        "    multi_p = 1\n",
        "    multi_not_p = 1\n",
        "    for i in p:\n",
        "      multi_p *= (i+delta)\n",
        "      multi_not_p *= (1-i+delta)\n",
        "    #print(multi_p)\n",
        "    #print(multi_not_p)\n",
        "    #print(pS)\n",
        "    #print(N)\n",
        "    return multi_p/(multi_p + multi_not_p * ((1 - pS)/pS) ** (1-N))\n",
        "   "
      ],
      "metadata": {
        "id": "NM6z3mCGUcMW"
      },
      "execution_count": null,
      "outputs": []
    },
    {
      "cell_type": "code",
      "source": [
        "new_clf = TextBayes()\n",
        "new_clf.set_dict(d3)\n",
        "new_clf.get_prior('дэвид')"
      ],
      "metadata": {
        "colab": {
          "base_uri": "https://localhost:8080/"
        },
        "id": "i-iFyCELidQl",
        "outputId": "faaec189-b1b8-4317-a459-368947b9e158"
      },
      "execution_count": null,
      "outputs": [
        {
          "output_type": "execute_result",
          "data": {
            "text/plain": [
              "{'Мир': 0.8852459016393442, 'Россия': 0.11475409836065574}"
            ]
          },
          "metadata": {},
          "execution_count": 155
        }
      ]
    },
    {
      "cell_type": "code",
      "source": [
        "news = pd.read_csv('/content/drive/MyDrive/lenta-ru-news.csv')\n",
        "news.describe()"
      ],
      "metadata": {
        "colab": {
          "base_uri": "https://localhost:8080/",
          "height": 291
        },
        "id": "NkpHZmFIWk9p",
        "outputId": "edc159df-2315-45cf-e6cc-13670942f86f"
      },
      "execution_count": null,
      "outputs": [
        {
          "output_type": "stream",
          "name": "stderr",
          "text": [
            "/usr/local/lib/python3.7/dist-packages/IPython/core/interactiveshell.py:2882: DtypeWarning: Columns (3) have mixed types.Specify dtype option on import or set low_memory=False.\n",
            "  exec(code_obj, self.user_global_ns, self.user_ns)\n"
          ]
        },
        {
          "output_type": "execute_result",
          "data": {
            "text/html": [
              "\n",
              "  <div id=\"df-c7575df2-e9c4-4c47-96b6-fb3a6c8c20fb\">\n",
              "    <div class=\"colab-df-container\">\n",
              "      <div>\n",
              "<style scoped>\n",
              "    .dataframe tbody tr th:only-of-type {\n",
              "        vertical-align: middle;\n",
              "    }\n",
              "\n",
              "    .dataframe tbody tr th {\n",
              "        vertical-align: top;\n",
              "    }\n",
              "\n",
              "    .dataframe thead th {\n",
              "        text-align: right;\n",
              "    }\n",
              "</style>\n",
              "<table border=\"1\" class=\"dataframe\">\n",
              "  <thead>\n",
              "    <tr style=\"text-align: right;\">\n",
              "      <th></th>\n",
              "      <th>url</th>\n",
              "      <th>title</th>\n",
              "      <th>text</th>\n",
              "      <th>topic</th>\n",
              "      <th>tags</th>\n",
              "      <th>date</th>\n",
              "    </tr>\n",
              "  </thead>\n",
              "  <tbody>\n",
              "    <tr>\n",
              "      <th>count</th>\n",
              "      <td>800975</td>\n",
              "      <td>800975</td>\n",
              "      <td>800970</td>\n",
              "      <td>738973</td>\n",
              "      <td>773756</td>\n",
              "      <td>800975</td>\n",
              "    </tr>\n",
              "    <tr>\n",
              "      <th>unique</th>\n",
              "      <td>800964</td>\n",
              "      <td>797832</td>\n",
              "      <td>800037</td>\n",
              "      <td>23</td>\n",
              "      <td>94</td>\n",
              "      <td>7393</td>\n",
              "    </tr>\n",
              "    <tr>\n",
              "      <th>top</th>\n",
              "      <td>https://lenta.ru/news/2001/06/28/milosevic/</td>\n",
              "      <td>В Москве объявлено штормовое предупреждение</td>\n",
              "      <td>РИА \"Новости\"</td>\n",
              "      <td>Россия</td>\n",
              "      <td>Все</td>\n",
              "      <td>2019/12/05</td>\n",
              "    </tr>\n",
              "    <tr>\n",
              "      <th>freq</th>\n",
              "      <td>2</td>\n",
              "      <td>21</td>\n",
              "      <td>291</td>\n",
              "      <td>160445</td>\n",
              "      <td>453762</td>\n",
              "      <td>284</td>\n",
              "    </tr>\n",
              "  </tbody>\n",
              "</table>\n",
              "</div>\n",
              "      <button class=\"colab-df-convert\" onclick=\"convertToInteractive('df-c7575df2-e9c4-4c47-96b6-fb3a6c8c20fb')\"\n",
              "              title=\"Convert this dataframe to an interactive table.\"\n",
              "              style=\"display:none;\">\n",
              "        \n",
              "  <svg xmlns=\"http://www.w3.org/2000/svg\" height=\"24px\"viewBox=\"0 0 24 24\"\n",
              "       width=\"24px\">\n",
              "    <path d=\"M0 0h24v24H0V0z\" fill=\"none\"/>\n",
              "    <path d=\"M18.56 5.44l.94 2.06.94-2.06 2.06-.94-2.06-.94-.94-2.06-.94 2.06-2.06.94zm-11 1L8.5 8.5l.94-2.06 2.06-.94-2.06-.94L8.5 2.5l-.94 2.06-2.06.94zm10 10l.94 2.06.94-2.06 2.06-.94-2.06-.94-.94-2.06-.94 2.06-2.06.94z\"/><path d=\"M17.41 7.96l-1.37-1.37c-.4-.4-.92-.59-1.43-.59-.52 0-1.04.2-1.43.59L10.3 9.45l-7.72 7.72c-.78.78-.78 2.05 0 2.83L4 21.41c.39.39.9.59 1.41.59.51 0 1.02-.2 1.41-.59l7.78-7.78 2.81-2.81c.8-.78.8-2.07 0-2.86zM5.41 20L4 18.59l7.72-7.72 1.47 1.35L5.41 20z\"/>\n",
              "  </svg>\n",
              "      </button>\n",
              "      \n",
              "  <style>\n",
              "    .colab-df-container {\n",
              "      display:flex;\n",
              "      flex-wrap:wrap;\n",
              "      gap: 12px;\n",
              "    }\n",
              "\n",
              "    .colab-df-convert {\n",
              "      background-color: #E8F0FE;\n",
              "      border: none;\n",
              "      border-radius: 50%;\n",
              "      cursor: pointer;\n",
              "      display: none;\n",
              "      fill: #1967D2;\n",
              "      height: 32px;\n",
              "      padding: 0 0 0 0;\n",
              "      width: 32px;\n",
              "    }\n",
              "\n",
              "    .colab-df-convert:hover {\n",
              "      background-color: #E2EBFA;\n",
              "      box-shadow: 0px 1px 2px rgba(60, 64, 67, 0.3), 0px 1px 3px 1px rgba(60, 64, 67, 0.15);\n",
              "      fill: #174EA6;\n",
              "    }\n",
              "\n",
              "    [theme=dark] .colab-df-convert {\n",
              "      background-color: #3B4455;\n",
              "      fill: #D2E3FC;\n",
              "    }\n",
              "\n",
              "    [theme=dark] .colab-df-convert:hover {\n",
              "      background-color: #434B5C;\n",
              "      box-shadow: 0px 1px 3px 1px rgba(0, 0, 0, 0.15);\n",
              "      filter: drop-shadow(0px 1px 2px rgba(0, 0, 0, 0.3));\n",
              "      fill: #FFFFFF;\n",
              "    }\n",
              "  </style>\n",
              "\n",
              "      <script>\n",
              "        const buttonEl =\n",
              "          document.querySelector('#df-c7575df2-e9c4-4c47-96b6-fb3a6c8c20fb button.colab-df-convert');\n",
              "        buttonEl.style.display =\n",
              "          google.colab.kernel.accessAllowed ? 'block' : 'none';\n",
              "\n",
              "        async function convertToInteractive(key) {\n",
              "          const element = document.querySelector('#df-c7575df2-e9c4-4c47-96b6-fb3a6c8c20fb');\n",
              "          const dataTable =\n",
              "            await google.colab.kernel.invokeFunction('convertToInteractive',\n",
              "                                                     [key], {});\n",
              "          if (!dataTable) return;\n",
              "\n",
              "          const docLinkHtml = 'Like what you see? Visit the ' +\n",
              "            '<a target=\"_blank\" href=https://colab.research.google.com/notebooks/data_table.ipynb>data table notebook</a>'\n",
              "            + ' to learn more about interactive tables.';\n",
              "          element.innerHTML = '';\n",
              "          dataTable['output_type'] = 'display_data';\n",
              "          await google.colab.output.renderOutput(dataTable, element);\n",
              "          const docLink = document.createElement('div');\n",
              "          docLink.innerHTML = docLinkHtml;\n",
              "          element.appendChild(docLink);\n",
              "        }\n",
              "      </script>\n",
              "    </div>\n",
              "  </div>\n",
              "  "
            ],
            "text/plain": [
              "                                                url  ...        date\n",
              "count                                        800975  ...      800975\n",
              "unique                                       800964  ...        7393\n",
              "top     https://lenta.ru/news/2001/06/28/milosevic/  ...  2019/12/05\n",
              "freq                                              2  ...         284\n",
              "\n",
              "[4 rows x 6 columns]"
            ]
          },
          "metadata": {},
          "execution_count": 7
        }
      ]
    },
    {
      "cell_type": "code",
      "source": [
        "news.info()"
      ],
      "metadata": {
        "colab": {
          "base_uri": "https://localhost:8080/"
        },
        "id": "Dqjyo7H2cQ84",
        "outputId": "d13ebbd9-9e85-4e75-ee81-f39bcffe15c8"
      },
      "execution_count": null,
      "outputs": [
        {
          "output_type": "stream",
          "name": "stdout",
          "text": [
            "<class 'pandas.core.frame.DataFrame'>\n",
            "RangeIndex: 800975 entries, 0 to 800974\n",
            "Data columns (total 3 columns):\n",
            " #   Column  Non-Null Count   Dtype \n",
            "---  ------  --------------   ----- \n",
            " 0   title   800975 non-null  object\n",
            " 1   topic   738973 non-null  object\n",
            " 2   tags    773756 non-null  object\n",
            "dtypes: object(3)\n",
            "memory usage: 18.3+ MB\n"
          ]
        }
      ]
    },
    {
      "cell_type": "code",
      "source": [
        "news = news.drop(['url', 'date', 'text'], axis=1) \n",
        "news[news['topic'].isin(['Спорт', 'Экономика', 'Культура', 'Наука и техника'])].info()"
      ],
      "metadata": {
        "colab": {
          "base_uri": "https://localhost:8080/"
        },
        "id": "BiWgnLrCXJYA",
        "outputId": "1a626afe-823e-4720-8fc2-8fe4a7ee00c1"
      },
      "execution_count": null,
      "outputs": [
        {
          "output_type": "stream",
          "name": "stdout",
          "text": [
            "<class 'pandas.core.frame.DataFrame'>\n",
            "Int64Index: 250874 entries, 630 to 739174\n",
            "Data columns (total 3 columns):\n",
            " #   Column  Non-Null Count   Dtype \n",
            "---  ------  --------------   ----- \n",
            " 0   title   250874 non-null  object\n",
            " 1   topic   250874 non-null  object\n",
            " 2   tags    240984 non-null  object\n",
            "dtypes: object(3)\n",
            "memory usage: 7.7+ MB\n"
          ]
        }
      ]
    },
    {
      "cell_type": "code",
      "source": [
        "news_first = news.drop(['tags'], axis=1)[news['topic'].isin(['Спорт', 'Экономика', 'Культура', 'Наука и техника'])]\n",
        "news_first.info()"
      ],
      "metadata": {
        "colab": {
          "base_uri": "https://localhost:8080/"
        },
        "id": "VfgNjeW_bZWp",
        "outputId": "61730599-7dea-4307-9463-9784a94b6744"
      },
      "execution_count": null,
      "outputs": [
        {
          "output_type": "stream",
          "name": "stdout",
          "text": [
            "<class 'pandas.core.frame.DataFrame'>\n",
            "Int64Index: 250874 entries, 630 to 739174\n",
            "Data columns (total 2 columns):\n",
            " #   Column  Non-Null Count   Dtype \n",
            "---  ------  --------------   ----- \n",
            " 0   title   250874 non-null  object\n",
            " 1   topic   250874 non-null  object\n",
            "dtypes: object(2)\n",
            "memory usage: 5.7+ MB\n"
          ]
        }
      ]
    },
    {
      "cell_type": "code",
      "source": [
        "news_second = news.drop(['topic'], axis=1)[news['tags'].isin(['Политика'])]\n",
        "news_second.info()"
      ],
      "metadata": {
        "colab": {
          "base_uri": "https://localhost:8080/"
        },
        "id": "k5Q4AcL3cewu",
        "outputId": "19c74719-6924-4b5d-da19-bd3988700816"
      },
      "execution_count": null,
      "outputs": [
        {
          "output_type": "stream",
          "name": "stdout",
          "text": [
            "<class 'pandas.core.frame.DataFrame'>\n",
            "Int64Index: 40716 entries, 448929 to 800972\n",
            "Data columns (total 2 columns):\n",
            " #   Column  Non-Null Count  Dtype \n",
            "---  ------  --------------  ----- \n",
            " 0   title   40716 non-null  object\n",
            " 1   tags    40716 non-null  object\n",
            "dtypes: object(2)\n",
            "memory usage: 954.3+ KB\n"
          ]
        }
      ]
    },
    {
      "cell_type": "code",
      "source": [
        "news_second.rename(columns={'tags': 'topic'}, inplace=True)\n",
        "news_second.info()"
      ],
      "metadata": {
        "colab": {
          "base_uri": "https://localhost:8080/"
        },
        "id": "yjIZkJx0dKfX",
        "outputId": "50477c9b-6f94-4944-a0ef-aadd6bb76562"
      },
      "execution_count": null,
      "outputs": [
        {
          "output_type": "stream",
          "name": "stdout",
          "text": [
            "<class 'pandas.core.frame.DataFrame'>\n",
            "Int64Index: 40716 entries, 448929 to 800972\n",
            "Data columns (total 2 columns):\n",
            " #   Column  Non-Null Count  Dtype \n",
            "---  ------  --------------  ----- \n",
            " 0   title   40716 non-null  object\n",
            " 1   topic   40716 non-null  object\n",
            "dtypes: object(2)\n",
            "memory usage: 954.3+ KB\n"
          ]
        }
      ]
    },
    {
      "cell_type": "code",
      "source": [
        "news = news_first.append(news_second, ignore_index=True)\n",
        "news.info()"
      ],
      "metadata": {
        "colab": {
          "base_uri": "https://localhost:8080/"
        },
        "id": "GgNPLl_wdofm",
        "outputId": "aad8f7b1-742e-4bb0-adf9-cae59b1b1b80"
      },
      "execution_count": null,
      "outputs": [
        {
          "output_type": "stream",
          "name": "stdout",
          "text": [
            "<class 'pandas.core.frame.DataFrame'>\n",
            "RangeIndex: 291590 entries, 0 to 291589\n",
            "Data columns (total 2 columns):\n",
            " #   Column  Non-Null Count   Dtype \n",
            "---  ------  --------------   ----- \n",
            " 0   title   291590 non-null  object\n",
            " 1   topic   291590 non-null  object\n",
            "dtypes: object(2)\n",
            "memory usage: 4.4+ MB\n"
          ]
        }
      ]
    },
    {
      "cell_type": "code",
      "source": [
        "news['topic'].hist()"
      ],
      "metadata": {
        "colab": {
          "base_uri": "https://localhost:8080/",
          "height": 282
        },
        "id": "s22Rntb2ZTNI",
        "outputId": "68d2841c-82d5-4960-9047-f50fdf99d82e"
      },
      "execution_count": null,
      "outputs": [
        {
          "output_type": "execute_result",
          "data": {
            "text/plain": [
              "<matplotlib.axes._subplots.AxesSubplot at 0x7f91efe19490>"
            ]
          },
          "metadata": {},
          "execution_count": 13
        },
        {
          "output_type": "display_data",
          "data": {
            "image/png": "[encoded data removed]",
            "text/plain": [
              "<Figure size 432x288 with 1 Axes>"
            ]
          },
          "metadata": {
            "needs_background": "light"
          }
        }
      ]
    },
    {
      "cell_type": "code",
      "source": [
        "X_batch = news.title.to_list()\n",
        "y_batch = news.topic.to_list()"
      ],
      "metadata": {
        "id": "Gxmu9bOCeYlT"
      },
      "execution_count": null,
      "outputs": []
    },
    {
      "cell_type": "code",
      "source": [
        "train_data = [X_batch, y_batch]"
      ],
      "metadata": {
        "id": "cuEhmqk_xo9H"
      },
      "execution_count": null,
      "outputs": []
    },
    {
      "cell_type": "code",
      "source": [
        "with open('topic_train_data.pickle', 'wb') as f:\n",
        "  pickle.dump(train_data, f)"
      ],
      "metadata": {
        "id": "AX3_ps77xgmi"
      },
      "execution_count": null,
      "outputs": []
    },
    {
      "cell_type": "code",
      "source": [
        "import sys\n",
        "sys.getsizeof(X_batch)/1024/8"
      ],
      "metadata": {
        "colab": {
          "base_uri": "https://localhost:8080/"
        },
        "id": "mrIBLOUPxPEP",
        "outputId": "24c3639f-ca76-44eb-accb-fd59f558e693"
      },
      "execution_count": null,
      "outputs": [
        {
          "output_type": "execute_result",
          "data": {
            "text/plain": [
              "284.7646484375"
            ]
          },
          "metadata": {},
          "execution_count": 26
        }
      ]
    },
    {
      "cell_type": "code",
      "source": [
        "clf_new = TextBayes()\n",
        "clf_new.fit(X_batch, y_batch)"
      ],
      "metadata": {
        "id": "jIFMz1YIeJn5",
        "colab": {
          "base_uri": "https://localhost:8080/"
        },
        "outputId": "8b26b6c3-bfd3-4eaf-daa3-927bd98e7b0e"
      },
      "execution_count": null,
      "outputs": [
        {
          "output_type": "stream",
          "name": "stdout",
          "text": [
            "0.0 %\n",
            "3.366255310267752 %\n",
            "6.732510620535504 %\n",
            "10.098765930803255 %\n",
            "13.465021241071009 %\n",
            "16.83127655133876 %\n",
            "20.19753186160651 %\n",
            "23.563787171874264 %\n",
            "26.930042482142017 %\n",
            "30.296297792409767 %\n",
            "33.66255310267752 %\n",
            "37.028808412945274 %\n",
            "40.39506372321302 %\n",
            "43.761319033480774 %\n",
            "47.12757434374853 %\n",
            "50.49382965401628 %\n",
            "53.860084964284034 %\n",
            "57.22634027455178 %\n",
            "60.592595584819534 %\n",
            "63.95885089508729 %\n",
            "67.32510620535504 %\n",
            "70.69136151562279 %\n",
            "74.05761682589055 %\n",
            "77.4238721361583 %\n",
            "80.79012744642604 %\n",
            "84.1563827566938 %\n",
            "87.52263806696155 %\n",
            "90.88889337722931 %\n",
            "94.25514868749705 %\n",
            "97.6214039977648 %\n"
          ]
        },
        {
          "output_type": "execute_result",
          "data": {
            "text/plain": [
              "{'космонавт': {'Мир': 34, 'Россия': 64},\n",
              " 'сомневаютс': {'Мир': 3, 'Россия': 8},\n",
              " 'надежн': {'Мир': 11, 'Россия': 10},\n",
              " 'мир': {'Мир': 787, 'Россия': 453},\n",
              " 'взрыв': {'Мир': 2579, 'Россия': 2984},\n",
              " 'центр': {'Мир': 871, 'Россия': 1941},\n",
              " 'москв': {'Мир': 1118, 'Россия': 12554},\n",
              " 'пострада': {'Мир': 1191, 'Россия': 1292},\n",
              " 'человек': {'Мир': 6579, 'Россия': 4321},\n",
              " 'пон': {'Мир': 1112, 'Россия': 223},\n",
              " 'кредит': {'Мир': 13, 'Россия': 62},\n",
              " 'росс': {'Мир': 6015, 'Россия': 12317},\n",
              " 'полтор': {'Мир': 96, 'Россия': 175},\n",
              " 'миллиард': {'Мир': 453, 'Россия': 632},\n",
              " 'доллар': {'Мир': 1444, 'Россия': 775},\n",
              " 'британц': {'Мир': 496, 'Россия': 96},\n",
              " 'отмеча': {'Мир': 38, 'Россия': 60},\n",
              " 'двухлет': {'Мир': 2, 'Россия': 0},\n",
              " 'смерт': {'Мир': 707, 'Россия': 655},\n",
              " 'диа': {'Мир': 82, 'Россия': 1},\n",
              " 'отмыт': {'Мир': 1, 'Россия': 1},\n",
              " 'деньг': {'Мир': 237, 'Россия': 411},\n",
              " 'имел': {'Мир': 12, 'Россия': 11},\n",
              " 'отношен': {'Мир': 674, 'Россия': 472},\n",
              " 'мвф': {'Мир': 35, 'Россия': 22},\n",
              " 'сент': {'Мир': 258, 'Россия': 314},\n",
              " 'бр': {'Мир': 262, 'Россия': 660},\n",
              " 'вводитс': {'Мир': 7, 'Россия': 18},\n",
              " 'нов': {'Мир': 3307, 'Россия': 3921},\n",
              " 'форм': {'Мир': 53, 'Россия': 130},\n",
              " 'таможен': {'Мир': 9, 'Россия': 39},\n",
              " 'декларац': {'Мир': 48, 'Россия': 59},\n",
              " 'созда': {'Мир': 393, 'Россия': 572},\n",
              " 'департамент': {'Мир': 12, 'Россия': 93},\n",
              " 'фсб': {'Мир': 42, 'Россия': 1079},\n",
              " 'борьб': {'Мир': 659, 'Россия': 651},\n",
              " 'терроризм': {'Мир': 410, 'Россия': 430},\n",
              " 'южн': {'Мир': 1013, 'Россия': 410},\n",
              " 'сахалинск': {'Мир': 5, 'Россия': 159},\n",
              " 'об': {'Мир': 2236, 'Россия': 2343},\n",
              " 'влен': {'Мир': 741, 'Россия': 1131},\n",
              " 'очаг': {'Мир': 7, 'Россия': 17},\n",
              " 'холер': {'Мир': 18, 'Россия': 11},\n",
              " 'леворадикал': {'Мир': 4, 'Россия': 6},\n",
              " 'предвыборн': {'Мир': 183, 'Россия': 225},\n",
              " 'блок': {'Мир': 43, 'Россия': 530},\n",
              " 'одн': {'Мир': 643, 'Россия': 709},\n",
              " 'землетр': {'Мир': 1220, 'Россия': 173},\n",
              " 'сен': {'Мир': 1249, 'Россия': 198},\n",
              " 'турц': {'Мир': 1824, 'Россия': 338},\n",
              " 'погиб': {'Мир': 702, 'Россия': 1000},\n",
              " 'окол': {'Мир': 337, 'Россия': 279},\n",
              " 'ран': {'Мир': 745, 'Россия': 1059},\n",
              " 'гор': {'Мир': 429, 'Россия': 702},\n",
              " 'дагеста': {'Мир': 6, 'Россия': 408},\n",
              " 'идут': {'Мир': 25, 'Россия': 21},\n",
              " 'активн': {'Мир': 60, 'Россия': 77},\n",
              " 'боев': {'Мир': 175, 'Россия': 188},\n",
              " 'действ': {'Мир': 326, 'Россия': 345},\n",
              " 'карачаев': {'Мир': 0, 'Россия': 175},\n",
              " 'черкес': {'Мир': 1, 'Россия': 171},\n",
              " 'расколол': {'Мир': 16, 'Россия': 15},\n",
              " 'национальн': {'Мир': 322, 'Россия': 218},\n",
              " 'признак': {'Мир': 29, 'Россия': 47},\n",
              " 'коржак': {'Мир': 0, 'Россия': 6},\n",
              " 'гот': {'Мир': 519, 'Россия': 368},\n",
              " 'рассказа': {'Мир': 1358, 'Россия': 1808},\n",
              " 'генпрокуратур': {'Мир': 61, 'Россия': 1018},\n",
              " 'финансов': {'Мир': 149, 'Россия': 127},\n",
              " 'сост': {'Мир': 192, 'Россия': 312},\n",
              " 'ни': {'Мир': 200, 'Россия': 305},\n",
              " 'ельцин': {'Мир': 12, 'Россия': 276},\n",
              " 'российск': {'Мир': 3113, 'Россия': 4750},\n",
              " 'национа': {'Мир': 22, 'Россия': 48},\n",
              " 'большевик': {'Мир': 9, 'Россия': 34},\n",
              " 'убира': {'Мир': 8, 'Россия': 20},\n",
              " 'территор': {'Мир': 427, 'Россия': 223},\n",
              " 'севастопол': {'Мир': 24, 'Россия': 125},\n",
              " 'киргиз': {'Мир': 93, 'Россия': 96},\n",
              " 'ведет': {'Мир': 24, 'Россия': 14},\n",
              " 'бо': {'Мир': 413, 'Россия': 313},\n",
              " 'границ': {'Мир': 907, 'Россия': 534},\n",
              " 'таджикистан': {'Мир': 26, 'Россия': 31},\n",
              " 'узбекистан': {'Мир': 18, 'Россия': 21},\n",
              " 'литв': {'Мир': 149, 'Россия': 115},\n",
              " 'засуд': {'Мир': 65, 'Россия': 66},\n",
              " 'участник': {'Мир': 396, 'Россия': 980},\n",
              " 'переворот': {'Мир': 193, 'Россия': 31},\n",
              " 'год': {'Мир': 1558, 'Россия': 2583},\n",
              " 'референдум': {'Мир': 307, 'Россия': 202},\n",
              " 'вопрос': {'Мир': 254, 'Россия': 435},\n",
              " 'самоопределен': {'Мир': 4, 'Россия': 1},\n",
              " 'восточн': {'Мир': 225, 'Россия': 126},\n",
              " 'тимор': {'Мир': 39, 'Россия': 8},\n",
              " 'прошел': {'Мир': 120, 'Россия': 253},\n",
              " 'успешн': {'Мир': 105, 'Россия': 70},\n",
              " 'сша': {'Мир': 12190, 'Россия': 2431},\n",
              " 'заплат': {'Мир': 238, 'Россия': 253},\n",
              " 'кита': {'Мир': 1617, 'Россия': 175},\n",
              " 'миллион': {'Мир': 1488, 'Россия': 2556},\n",
              " 'ошибочн': {'Мир': 34, 'Россия': 13},\n",
              " 'бомбардировк': {'Мир': 135, 'Россия': 14},\n",
              " 'илюхин': {'Мир': 0, 'Россия': 20},\n",
              " 'исак': {'Мир': 0, 'Россия': 2},\n",
              " 'отвернул': {'Мир': 3, 'Россия': 3},\n",
              " 'коммунист': {'Мир': 84, 'Россия': 512},\n",
              " 'паколл': {'Мир': 2, 'Россия': 2},\n",
              " 'дел': {'Мир': 1695, 'Россия': 6759},\n",
              " 'понт': {'Мир': 33, 'Россия': 5},\n",
              " 'предлага': {'Мир': 124, 'Россия': 281},\n",
              " 'вз': {'Мир': 924, 'Россия': 1481},\n",
              " 'тку': {'Мир': 26, 'Россия': 315},\n",
              " 'фбр': {'Мир': 555, 'Россия': 220},\n",
              " 'готовитс': {'Мир': 191, 'Россия': 139},\n",
              " 'кибер': {'Мир': 3, 'Россия': 2},\n",
              " 'войн': {'Мир': 1299, 'Россия': 583},\n",
              " 'теракт': {'Мир': 2197, 'Россия': 2601},\n",
              " 'канун': {'Мир': 7, 'Россия': 4},\n",
              " 'подчища': {'Мир': 1, 'Россия': 0},\n",
              " 'уничтожа': {'Мир': 41, 'Россия': 35},\n",
              " 'документ': {'Мир': 244, 'Россия': 342},\n",
              " 'федеральн': {'Мир': 76, 'Россия': 498},\n",
              " 'сил': {'Мир': 524, 'Россия': 472},\n",
              " 'дагестан': {'Мир': 3, 'Россия': 941},\n",
              " 'замкнул': {'Мир': 0, 'Россия': 4},\n",
              " 'кольц': {'Мир': 16, 'Россия': 142},\n",
              " 'окружен': {'Мир': 54, 'Россия': 63},\n",
              " 'освобожд': {'Мир': 212, 'Россия': 212},\n",
              " 'тро': {'Мир': 477, 'Россия': 596},\n",
              " 'заложник': {'Мир': 840, 'Россия': 582},\n",
              " 'ммвб': {'Мир': 0, 'Россия': 5},\n",
              " 'произошел': {'Мир': 719, 'Россия': 766},\n",
              " 'резк': {'Мир': 63, 'Россия': 67},\n",
              " 'скачок': {'Мир': 0, 'Россия': 1},\n",
              " 'курс': {'Мир': 50, 'Россия': 78},\n",
              " 'американск': {'Мир': 4751, 'Россия': 775},\n",
              " 'миротворц': {'Мир': 312, 'Россия': 140},\n",
              " 'скрыва': {'Мир': 30, 'Россия': 17},\n",
              " 'факт': {'Мир': 122, 'Россия': 526},\n",
              " 'массов': {'Мир': 543, 'Россия': 671},\n",
              " 'убийств': {'Мир': 1792, 'Россия': 3310},\n",
              " 'перестанут': {'Мир': 19, 'Россия': 18},\n",
              " 'торгова': {'Мир': 32, 'Россия': 64},\n",
              " 'немецк': {'Мир': 1540, 'Россия': 169},\n",
              " 'марк': {'Мир': 37, 'Россия': 33},\n",
              " 'швейцарец': {'Мир': 4, 'Россия': 2},\n",
              " 'подпольн': {'Мир': 21, 'Россия': 69},\n",
              " 'арм': {'Мир': 1443, 'Россия': 628},\n",
              " 'буэнос': {'Мир': 23, 'Россия': 2},\n",
              " 'айрес': {'Мир': 23, 'Россия': 2},\n",
              " 'разбилс': {'Мир': 998, 'Россия': 278},\n",
              " 'самолет': {'Мир': 3178, 'Россия': 1460},\n",
              " 'пассажир': {'Мир': 640, 'Россия': 723},\n",
              " 'борт': {'Мир': 355, 'Россия': 181},\n",
              " 'хот': {'Мир': 158, 'Россия': 172},\n",
              " 'т': {'Мир': 4626, 'Россия': 6560},\n",
              " 'сдела': {'Мир': 255, 'Россия': 370},\n",
              " 'пауз': {'Мир': 10, 'Россия': 8},\n",
              " 'кредитован': {'Мир': 2, 'Россия': 4},\n",
              " 'минюст': {'Мир': 49, 'Россия': 305},\n",
              " 'политическ': {'Мир': 231, 'Россия': 298},\n",
              " 'экстремист': {'Мир': 113, 'Россия': 143},\n",
              " 'уб': {'Мир': 1476, 'Россия': 1835},\n",
              " 'абхазск': {'Мир': 7, 'Россия': 55},\n",
              " 'таможенник': {'Мир': 24, 'Россия': 102},\n",
              " 'компан': {'Мир': 344, 'Россия': 349},\n",
              " 'выпуст': {'Мир': 252, 'Россия': 236},\n",
              " 'настольн': {'Мир': 4, 'Россия': 3},\n",
              " 'суперкомпьютер': {'Мир': 6, 'Россия': 2},\n",
              " 'манежн': {'Мир': 0, 'Россия': 158},\n",
              " 'верс': {'Мир': 161, 'Россия': 353},\n",
              " 'президент': {'Мир': 3908, 'Россия': 2460},\n",
              " 'жела': {'Мир': 71, 'Россия': 63},\n",
              " 'объективн': {'Мир': 3, 'Россия': 19},\n",
              " 'расследован': {'Мир': 422, 'Россия': 491},\n",
              " 'сканда': {'Мир': 202, 'Россия': 118},\n",
              " 'вокруг': {'Мир': 84, 'Россия': 87},\n",
              " 'анарх': {'Мир': 7, 'Россия': 6},\n",
              " 'стрельб': {'Мир': 586, 'Россия': 421},\n",
              " 'боевик': {'Мир': 2339, 'Россия': 2914},\n",
              " 'вытесн': {'Мир': 16, 'Россия': 15},\n",
              " 'дагестанск': {'Мир': 10, 'Россия': 370},\n",
              " 'сел': {'Мир': 270, 'Россия': 651},\n",
              " 'карамах': {'Мир': 0, 'Россия': 3},\n",
              " 'павелецк': {'Мир': 3, 'Россия': 25},\n",
              " 'вокзал': {'Мир': 46, 'Россия': 210},\n",
              " 'обнаруж': {'Мир': 828, 'Россия': 942},\n",
              " 'предмет': {'Мир': 30, 'Россия': 58},\n",
              " 'напомина': {'Мир': 3, 'Россия': 7},\n",
              " 'взрывн': {'Мир': 36, 'Россия': 140},\n",
              " 'устр': {'Мир': 11, 'Россия': 40},\n",
              " 'тво': {'Мир': 0, 'Россия': 14},\n",
              " 'вырос': {'Мир': 20, 'Россия': 24},\n",
              " 'копеек': {'Мир': 0, 'Россия': 6},\n",
              " 'колокол': {'Мир': 8, 'Россия': 15},\n",
              " 'похищен': {'Мир': 487, 'Россия': 560},\n",
              " 'св': {'Мир': 1152, 'Россия': 1367},\n",
              " 'троицк': {'Мир': 5, 'Россия': 39},\n",
              " 'собор': {'Мир': 62, 'Россия': 87},\n",
              " 'сан': {'Мир': 212, 'Россия': 22},\n",
              " 'франциск': {'Мир': 141, 'Россия': 6},\n",
              " 'возвращ': {'Мир': 6, 'Россия': 18},\n",
              " 'чечн': {'Мир': 56, 'Россия': 3230},\n",
              " 'отключ': {'Мир': 56, 'Россия': 81},\n",
              " 'орт': {'Мир': 4, 'Россия': 81},\n",
              " 'ртр': {'Мир': 0, 'Россия': 22},\n",
              " 'ша': {'Мир': 8, 'Россия': 3},\n",
              " 'будут': {'Мир': 503, 'Россия': 1072},\n",
              " 'блокирова': {'Мир': 104, 'Россия': 180},\n",
              " 'выделен': {'Мир': 18, 'Россия': 40},\n",
              " 'авиакатастроф': {'Мир': 332, 'Россия': 167},\n",
              " 'танзан': {'Мир': 36, 'Россия': 4},\n",
              " 'выж': {'Мир': 161, 'Россия': 110},\n",
              " 'кндр': {'Мир': 1277, 'Россия': 80},\n",
              " 'перенос': {'Мир': 34, 'Россия': 77},\n",
              " 'морск': {'Мир': 266, 'Россия': 116},\n",
              " 'ближ': {'Мир': 4, 'Россия': 10},\n",
              " 'берег': {'Мир': 670, 'Россия': 111},\n",
              " 'кор': {'Мир': 1337, 'Россия': 182},\n",
              " 'минпечат': {'Мир': 0, 'Россия': 32},\n",
              " 'запрет': {'Мир': 1478, 'Россия': 1630},\n",
              " 'вещан': {'Мир': 18, 'Россия': 23},\n",
              " 'петербург': {'Мир': 123, 'Россия': 2547},\n",
              " 'курдск': {'Мир': 163, 'Россия': 14},\n",
              " 'рабоч': {'Мир': 244, 'Россия': 400},\n",
              " 'парт': {'Мир': 820, 'Россия': 1073},\n",
              " 'складыва': {'Мир': 1, 'Россия': 0},\n",
              " 'оруж': {'Мир': 1169, 'Россия': 609},\n",
              " 'баткенск': {'Мир': 1, 'Россия': 0},\n",
              " 'район': {'Мир': 270, 'Россия': 817},\n",
              " 'введ': {'Мир': 90, 'Россия': 105},\n",
              " 'комендантск': {'Мир': 101, 'Россия': 30},\n",
              " 'час': {'Мир': 374, 'Россия': 429},\n",
              " 'цен': {'Мир': 81, 'Россия': 174},\n",
              " 'прибор': {'Мир': 14, 'Россия': 27},\n",
              " 'отпра': {'Мир': 75, 'Россия': 80},\n",
              " 'земл': {'Мир': 263, 'Россия': 259},\n",
              " 'возл': {'Мир': 194, 'Россия': 196},\n",
              " 'еврейск': {'Мир': 274, 'Россия': 119},\n",
              " 'школ': {'Мир': 650, 'Россия': 1027},\n",
              " 'найд': {'Мир': 541, 'Россия': 640},\n",
              " 'мин': {'Мир': 121, 'Россия': 134},\n",
              " 'виновн': {'Мир': 349, 'Россия': 372},\n",
              " 'гибел': {'Мир': 640, 'Россия': 747},\n",
              " 'сектант': {'Мир': 25, 'Россия': 81},\n",
              " 'уэйк': {'Мир': 1, 'Россия': 0},\n",
              " 'повышаютс': {'Мир': 0, 'Россия': 4},\n",
              " 'телефон': {'Мир': 227, 'Россия': 409},\n",
              " 'ущерб': {'Мир': 97, 'Россия': 169},\n",
              " 'оцениваетс': {'Мир': 1, 'Россия': 3},\n",
              " 'глобальн': {'Мир': 76, 'Россия': 27},\n",
              " 'та': {'Мир': 46, 'Россия': 69},\n",
              " 'льдов': {'Мир': 6, 'Россия': 4},\n",
              " 'высвобод': {'Мир': 1, 'Россия': 1},\n",
              " 'древн': {'Мир': 55, 'Россия': 11},\n",
              " 'вирус': {'Мир': 77, 'Россия': 27},\n",
              " 'гонконг': {'Мир': 126, 'Россия': 18},\n",
              " 'разгромл': {'Мир': 6, 'Россия': 11},\n",
              " 'синдикат': {'Мир': 4, 'Россия': 2},\n",
              " 'производств': {'Мир': 123, 'Россия': 211},\n",
              " 'поддельн': {'Мир': 52, 'Россия': 99},\n",
              " 'компакт': {'Мир': 3, 'Россия': 10},\n",
              " 'диск': {'Мир': 22, 'Россия': 44},\n",
              " 'алта': {'Мир': 19, 'Россия': 178},\n",
              " 'половин': {'Мир': 173, 'Россия': 324},\n",
              " 'закрыт': {'Мир': 170, 'Россия': 310},\n",
              " 'забастовк': {'Мир': 283, 'Россия': 76},\n",
              " 'продукт': {'Мир': 26, 'Россия': 99},\n",
              " 'перв': {'Мир': 1062, 'Россия': 988},\n",
              " 'необходим': {'Мир': 75, 'Россия': 89},\n",
              " 'вырастут': {'Мир': 0, 'Россия': 5},\n",
              " 'вдво': {'Мир': 59, 'Россия': 84},\n",
              " 'спецпредставител': {'Мир': 44, 'Россия': 28},\n",
              " 'рф': {'Мир': 328, 'Россия': 1355},\n",
              " 'миха': {'Мир': 24, 'Россия': 311},\n",
              " 'задорн': {'Мир': 0, 'Россия': 5},\n",
              " 'уход': {'Мир': 229, 'Россия': 191},\n",
              " 'сво': {'Мир': 2267, 'Россия': 1894},\n",
              " 'пост': {'Мир': 650, 'Россия': 788},\n",
              " 'владимир': {'Мир': 41, 'Россия': 602},\n",
              " 'путин': {'Мир': 1173, 'Россия': 7302},\n",
              " 'встретилс': {'Мир': 95, 'Россия': 69},\n",
              " 'эдуард': {'Мир': 12, 'Россия': 96},\n",
              " 'россел': {'Мир': 0, 'Россия': 27},\n",
              " 'больн': {'Мир': 64, 'Россия': 115},\n",
              " 'убива': {'Мир': 99, 'Россия': 59},\n",
              " 'сотрудник': {'Мир': 582, 'Россия': 1423},\n",
              " 'оон': {'Мир': 2399, 'Россия': 332},\n",
              " 'брюссельск': {'Мир': 41, 'Россия': 1},\n",
              " 'писа': {'Мир': 28, 'Россия': 28},\n",
              " 'мальчик': {'Мир': 177, 'Россия': 211},\n",
              " 'пив': {'Мир': 41, 'Россия': 100},\n",
              " 'нат': {'Мир': 1142, 'Россия': 326},\n",
              " 'выдвигаетс': {'Мир': 1, 'Россия': 0},\n",
              " 'нобелевск': {'Мир': 181, 'Россия': 32},\n",
              " 'прем': {'Мир': 247, 'Россия': 164},\n",
              " 'бел': {'Мир': 837, 'Россия': 383},\n",
              " 'дом': {'Мир': 2202, 'Россия': 2173},\n",
              " 'шлет': {'Мир': 4, 'Россия': 1},\n",
              " 'секретн': {'Мир': 438, 'Россия': 127},\n",
              " 'факс': {'Мир': 5, 'Россия': 2},\n",
              " 'новозеландск': {'Мир': 43, 'Россия': 5},\n",
              " 'куриц': {'Мир': 5, 'Россия': 5},\n",
              " 'трк': {'Мир': 0, 'Россия': 2},\n",
              " 'сн': {'Мир': 547, 'Россия': 716},\n",
              " 'укра': {'Мир': 174, 'Россия': 602},\n",
              " 'генеральн': {'Мир': 76, 'Россия': 57},\n",
              " 'директор': {'Мир': 237, 'Россия': 726},\n",
              " 'бывш': {'Мир': 2050, 'Россия': 2476},\n",
              " 'назнач': {'Мир': 427, 'Россия': 613},\n",
              " 'зам': {'Мир': 33, 'Россия': 98},\n",
              " 'глав': {'Мир': 1700, 'Россия': 3363},\n",
              " 'администрац': {'Мир': 276, 'Россия': 484},\n",
              " 'экипаж': {'Мир': 265, 'Россия': 303},\n",
              " 'двух': {'Мир': 932, 'Россия': 1183},\n",
              " 'стал': {'Мир': 1412, 'Россия': 1280},\n",
              " 'ангольск': {'Мир': 7, 'Россия': 3},\n",
              " 'партиза': {'Мир': 144, 'Россия': 67},\n",
              " 'кремл': {'Мир': 48, 'Россия': 1649},\n",
              " 'швейцар': {'Мир': 244, 'Россия': 128},\n",
              " 'назва': {'Мир': 2264, 'Россия': 2710},\n",
              " 'подозрева': {'Мир': 878, 'Россия': 1848},\n",
              " 'техас': {'Мир': 352, 'Россия': 8},\n",
              " 'мертв': {'Мир': 160, 'Россия': 158},\n",
              " 'бык': {'Мир': 20, 'Россия': 49},\n",
              " 'жив': {'Мир': 164, 'Россия': 189},\n",
              " 'теленк': {'Мир': 1, 'Россия': 3},\n",
              " 'полност': {'Мир': 102, 'Россия': 138},\n",
              " 'уда': {'Мир': 148, 'Россия': 180},\n",
              " 'отключа': {'Мир': 8, 'Россия': 31},\n",
              " 'черноморск': {'Мир': 7, 'Россия': 58},\n",
              " 'флот': {'Мир': 69, 'Россия': 246},\n",
              " 'согласн': {'Мир': 34, 'Россия': 9},\n",
              " 'отпуст': {'Мир': 409, 'Россия': 492},\n",
              " 'захвачен': {'Мир': 240, 'Россия': 120},\n",
              " 'государств': {'Мир': 486, 'Россия': 180},\n",
              " 'хочет': {'Мир': 192, 'Россия': 222},\n",
              " 'контролирова': {'Мир': 20, 'Россия': 32},\n",
              " 'интернет': {'Мир': 223, 'Россия': 348},\n",
              " 'авар': {'Мир': 651, 'Россия': 758},\n",
              " 'рославск': {'Мир': 6, 'Россия': 171},\n",
              " 'пода': {'Мир': 592, 'Россия': 652},\n",
              " 'суд': {'Мир': 3346, 'Россия': 6024},\n",
              " 'кам': {'Мир': 55, 'Россия': 52},\n",
              " 'вытекл': {'Мир': 5, 'Россия': 6},\n",
              " 'тон': {'Мир': 452, 'Россия': 330},\n",
              " 'мазут': {'Мир': 17, 'Россия': 54},\n",
              " 'сторонник': {'Мир': 479, 'Россия': 304},\n",
              " 'станислав': {'Мир': 0, 'Россия': 7},\n",
              " 'дерев': {'Мир': 46, 'Россия': 85},\n",
              " 'подчин': {'Мир': 15, 'Россия': 25},\n",
              " 'омск': {'Мир': 13, 'Россия': 515},\n",
              " 'новгородск': {'Мир': 2, 'Россия': 181},\n",
              " 'област': {'Мир': 310, 'Россия': 3336},\n",
              " 'х': {'Мир': 1488, 'Россия': 1546},\n",
              " 'оста': {'Мир': 249, 'Россия': 411},\n",
              " 'прежн': {'Мир': 19, 'Россия': 47},\n",
              " 'губернатор': {'Мир': 393, 'Россия': 2336},\n",
              " 'террорист': {'Мир': 1858, 'Россия': 1965},\n",
              " 'погибл': {'Мир': 3843, 'Россия': 1918},\n",
              " 'врем': {'Мир': 898, 'Россия': 776},\n",
              " 'хайф': {'Мир': 68, 'Россия': 0},\n",
              " 'твер': {'Мир': 6, 'Россия': 86},\n",
              " 'бухт': {'Мир': 11, 'Россия': 8},\n",
              " 'ласп': {'Мир': 1, 'Россия': 0},\n",
              " 'сухогруз': {'Мир': 133, 'Россия': 98},\n",
              " 'кристин': {'Мир': 11, 'Россия': 2},\n",
              " 'выл': {'Мир': 27, 'Россия': 27},\n",
              " 'горюч': {'Мир': 10, 'Россия': 12},\n",
              " 'правительств': {'Мир': 1431, 'Россия': 1213},\n",
              " 'счита': {'Мир': 257, 'Россия': 284},\n",
              " 'нача': {'Мир': 1693, 'Россия': 1517},\n",
              " 'драк': {'Мир': 110, 'Россия': 719},\n",
              " 'площад': {'Мир': 115, 'Россия': 703},\n",
              " 'шест': {'Мир': 506, 'Россия': 681},\n",
              " 'эпидем': {'Мир': 40, 'Россия': 45},\n",
              " 'краснух': {'Мир': 0, 'Россия': 1},\n",
              " 'белгородск': {'Мир': 4, 'Россия': 103},\n",
              " 'вернул': {'Мир': 242, 'Россия': 413},\n",
              " 'чеченск': {'Мир': 56, 'Россия': 1203},\n",
              " 'плен': {'Мир': 304, 'Россия': 132},\n",
              " 'непал': {'Мир': 107, 'Россия': 5},\n",
              " 'держав': {'Мир': 36, 'Россия': 10},\n",
              " 'выход': {'Мир': 224, 'Россия': 151},\n",
              " 'отечеств': {'Мир': 0, 'Россия': 74},\n",
              " 'пентагон': {'Мир': 849, 'Россия': 75},\n",
              " 'отключаетс': {'Мир': 1, 'Россия': 0},\n",
              " 'опас': {'Мир': 9, 'Россия': 7},\n",
              " 'с': {'Мир': 36, 'Россия': 31},\n",
              " 'хакер': {'Мир': 157, 'Россия': 49},\n",
              " 'спикер': {'Мир': 131, 'Россия': 307},\n",
              " 'госдум': {'Мир': 43, 'Россия': 3153},\n",
              " 'селезн': {'Мир': 4, 'Россия': 65},\n",
              " 'отмен': {'Мир': 704, 'Россия': 826},\n",
              " 'полев': {'Мир': 39, 'Россия': 87},\n",
              " 'командир': {'Мир': 160, 'Россия': 298},\n",
              " 'хаттаб': {'Мир': 1, 'Россия': 141},\n",
              " 'зан': {'Мир': 269, 'Россия': 485},\n",
              " 'бин': {'Мир': 384, 'Россия': 509},\n",
              " 'ладен': {'Мир': 43, 'Россия': 44},\n",
              " 'бомб': {'Мир': 894, 'Россия': 1071},\n",
              " 'рамстор': {'Мир': 0, 'Россия': 4},\n",
              " 'нашл': {'Мир': 1430, 'Россия': 2197},\n",
              " 'всеобщ': {'Мир': 72, 'Россия': 17},\n",
              " 'мобилизац': {'Мир': 19, 'Россия': 11},\n",
              " 'покида': {'Мир': 91, 'Россия': 38},\n",
              " 'заболел': {'Мир': 17, 'Россия': 21},\n",
              " 'смертоносн': {'Мир': 12, 'Россия': 4},\n",
              " 'бактер': {'Мир': 9, 'Россия': 3},\n",
              " 'виз': {'Мир': 380, 'Россия': 372},\n",
              " 'оползен': {'Мир': 25, 'Россия': 3},\n",
              " 'застрел': {'Мир': 859, 'Россия': 818},\n",
              " 'трех': {'Мир': 424, 'Россия': 543},\n",
              " 'косовск': {'Мир': 57, 'Россия': 2},\n",
              " 'серб': {'Мир': 467, 'Россия': 55},\n",
              " 'египт': {'Мир': 870, 'Россия': 128},\n",
              " 'соверш': {'Мир': 442, 'Россия': 722},\n",
              " 'покушен': {'Мир': 323, 'Россия': 717},\n",
              " 'программ': {'Мир': 316, 'Россия': 273},\n",
              " 'заморож': {'Мир': 8, 'Россия': 8},\n",
              " 'грец': {'Мир': 394, 'Россия': 58},\n",
              " 'швейцарск': {'Мир': 146, 'Россия': 69},\n",
              " 'счет': {'Мир': 198, 'Россия': 244},\n",
              " 'всплыл': {'Мир': 4, 'Россия': 5},\n",
              " 'труп': {'Мир': 145, 'Россия': 220},\n",
              " 'инкомбанк': {'Мир': 0, 'Россия': 4},\n",
              " 'отст': {'Мир': 27, 'Россия': 26},\n",
              " 'л': {'Мир': 914, 'Россия': 838},\n",
              " 'тельност': {'Мир': 97, 'Россия': 208},\n",
              " 'мвд': {'Мир': 214, 'Россия': 1625},\n",
              " 'обвин': {'Мир': 2797, 'Россия': 2678},\n",
              " 'ет': {'Мир': 352, 'Россия': 359},\n",
              " 'банк': {'Мир': 332, 'Россия': 533},\n",
              " 'помощ': {'Мир': 926, 'Россия': 770},\n",
              " 'переговор': {'Мир': 1077, 'Россия': 386},\n",
              " 'изра': {'Мир': 1115, 'Россия': 63},\n",
              " 'ливан': {'Мир': 265, 'Россия': 66},\n",
              " 'фактическ': {'Мир': 8, 'Россия': 12},\n",
              " 'провал': {'Мир': 110, 'Россия': 117},\n",
              " 'освобожден': {'Мир': 381, 'Россия': 237},\n",
              " 'косов': {'Мир': 401, 'Россия': 39},\n",
              " 'расформирова': {'Мир': 6, 'Россия': 15},\n",
              " 'черкесск': {'Мир': 1, 'Россия': 84},\n",
              " 'прин': {'Мир': 605, 'Россия': 574},\n",
              " 'нулев': {'Мир': 2, 'Россия': 12},\n",
              " 'вариант': {'Мир': 36, 'Россия': 42},\n",
              " 'индонез': {'Мир': 434, 'Россия': 72},\n",
              " 'ввел': {'Мир': 289, 'Россия': 178},\n",
              " 'воен': {'Мир': 3029, 'Россия': 1530},\n",
              " 'положен': {'Мир': 228, 'Россия': 88},\n",
              " 'инд': {'Мир': 918, 'Россия': 120},\n",
              " 'жертв': {'Мир': 1787, 'Россия': 921},\n",
              " 'наводнен': {'Мир': 381, 'Россия': 140},\n",
              " 'влинск': {'Мир': 1, 'Россия': 124},\n",
              " 'зыва': {'Мир': 14, 'Россия': 32},\n",
              " 'кремлевск': {'Мир': 5, 'Россия': 82},\n",
              " 'коллективн': {'Мир': 8, 'Россия': 27},\n",
              " 'прозрен': {'Мир': 1, 'Россия': 1},\n",
              " 'запад': {'Мир': 339, 'Россия': 508},\n",
              " 'назначен': {'Мир': 80, 'Россия': 149},\n",
              " 'казахстан': {'Мир': 58, 'Россия': 40},\n",
              " 'похож': {'Мир': 30, 'Россия': 26},\n",
              " 'бубон': {'Мир': 4, 'Россия': 1},\n",
              " 'чум': {'Мир': 10, 'Россия': 16},\n",
              " 'умерл': {'Мир': 162, 'Россия': 167},\n",
              " 'девушк': {'Мир': 113, 'Россия': 231},\n",
              " 'космос': {'Мир': 96, 'Россия': 61},\n",
              " 'снов': {'Мир': 352, 'Россия': 301},\n",
              " 'запущ': {'Мир': 12, 'Россия': 39},\n",
              " 'протон': {'Мир': 1, 'Россия': 47},\n",
              " 'могилевич': {'Мир': 0, 'Россия': 16},\n",
              " 'выигра': {'Мир': 157, 'Россия': 127},\n",
              " 'вс': {'Мир': 35, 'Россия': 57},\n",
              " 'представ': {'Мир': 107, 'Россия': 130},\n",
              " 'цик': {'Мир': 109, 'Россия': 659},\n",
              " 'списк': {'Мир': 159, 'Россия': 263},\n",
              " 'березовск': {'Мир': 89, 'Россия': 508},\n",
              " 'отказалс': {'Мир': 987, 'Россия': 1193},\n",
              " 'баллотироватьс': {'Мир': 62, 'Россия': 103},\n",
              " 'а': {'Мир': 5, 'Россия': 64},\n",
              " 'нанес': {'Мир': 122, 'Россия': 14},\n",
              " 'ракетн': {'Мир': 390, 'Россия': 118},\n",
              " 'бомбов': {'Мир': 10, 'Россия': 3},\n",
              " 'удар': {'Мир': 1037, 'Россия': 289},\n",
              " 'норильск': {'Мир': 8, 'Россия': 67},\n",
              " 'четыр': {'Мир': 491, 'Россия': 605},\n",
              " 'результат': {'Мир': 1293, 'Россия': 799},\n",
              " 'сорм': {'Мир': 1, 'Россия': 0},\n",
              " 'украин': {'Мир': 1138, 'Россия': 884},\n",
              " 'вне': {'Мир': 45, 'Россия': 29},\n",
              " 'закон': {'Мир': 482, 'Россия': 1268},\n",
              " 'генштаб': {'Мир': 83, 'Россия': 154},\n",
              " 'ввод': {'Мир': 92, 'Россия': 115},\n",
              " 'цензур': {'Мир': 24, 'Россия': 22},\n",
              " 'ачинск': {'Мир': 0, 'Россия': 13},\n",
              " 'выступлен': {'Мир': 121, 'Россия': 84},\n",
              " 'прот': {'Мир': 2080, 'Россия': 1558},\n",
              " 'лебед': {'Мир': 3, 'Россия': 217},\n",
              " 'управдел': {'Мир': 1, 'Россия': 60},\n",
              " 'бородин': {'Мир': 60, 'Россия': 98},\n",
              " 'судебн': {'Мир': 58, 'Россия': 223},\n",
              " 'процесс': {'Мир': 187, 'Россия': 186},\n",
              " 'проигра': {'Мир': 94, 'Россия': 104},\n",
              " 'грем': {'Мир': 1, 'Россия': 0},\n",
              " 'ден': {'Мир': 438, 'Россия': 709},\n",
              " 'четырех': {'Мир': 246, 'Россия': 286},\n",
              " 'дев': {'Мир': 350, 'Россия': 432},\n",
              " 'ток': {'Мир': 152, 'Россия': 110},\n",
              " 'репетиц': {'Мир': 7, 'Россия': 33},\n",
              " 'ошибк': {'Мир': 281, 'Россия': 161},\n",
              " 'москвич': {'Мир': 11, 'Россия': 724},\n",
              " 'видет': {'Мир': 26, 'Россия': 28},\n",
              " 'лужков': {'Мир': 3, 'Россия': 287},\n",
              " 'мед': {'Мир': 13, 'Россия': 47},\n",
              " 'импер': {'Мир': 25, 'Россия': 18},\n",
              " 'век': {'Мир': 71, 'Россия': 49},\n",
              " 'недовольн': {'Мир': 62, 'Россия': 63},\n",
              " 'клинтон': {'Мир': 987, 'Россия': 89},\n",
              " 'блэр': {'Мир': 494, 'Россия': 62},\n",
              " 'мандел': {'Мир': 64, 'Россия': 2},\n",
              " 'бон': {'Мир': 21, 'Россия': 1},\n",
              " 'дэвид': {'Мир': 54, 'Россия': 7},\n",
              " 'боу': {'Мир': 2, 'Россия': 0},\n",
              " 'встречаютс': {'Мир': 3, 'Россия': 0},\n",
              " 'лайн': {'Мир': 1, 'Россия': 12},\n",
              " 'нападен': {'Мир': 659, 'Россия': 1064},\n",
              " 'австралийск': {'Мир': 252, 'Россия': 23},\n",
              " 'посольств': {'Мир': 763, 'Россия': 509},\n",
              " 'джакарт': {'Мир': 39, 'Россия': 30},\n",
              " 'министерств': {'Мир': 165, 'Россия': 181},\n",
              " 'налог': {'Мир': 123, 'Россия': 181},\n",
              " 'сбор': {'Мир': 69, 'Россия': 188},\n",
              " 'ло': {'Мир': 145, 'Россия': 97},\n",
              " 'азс': {'Мир': 9, 'Россия': 36},\n",
              " 'московск': {'Мир': 137, 'Россия': 4581},\n",
              " 'пожарн': {'Мир': 174, 'Россия': 270},\n",
              " 'предотврат': {'Мир': 168, 'Россия': 190},\n",
              " 'катастроф': {'Мир': 532, 'Россия': 334},\n",
              " 'завод': {'Мир': 373, 'Россия': 551},\n",
              " 'нефтепродукт': {'Мир': 16, 'Россия': 35},\n",
              " 'прилетел': {'Мир': 89, 'Россия': 121},\n",
              " 'минск': {'Мир': 124, 'Россия': 139},\n",
              " 'лукашенк': {'Мир': 147, 'Россия': 126},\n",
              " 'умер': {'Мир': 478, 'Россия': 483},\n",
              " 'лев': {'Мир': 98, 'Россия': 124},\n",
              " 'разгон': {'Мир': 67, 'Россия': 80},\n",
              " 'получ': {'Мир': 1104, 'Россия': 1399},\n",
              " 'материал': {'Мир': 70, 'Россия': 114},\n",
              " 'аэрофлот': {'Мир': 20, 'Россия': 148},\n",
              " 'выбор': {'Мир': 1890, 'Россия': 3238},\n",
              " 'мэр': {'Мир': 570, 'Россия': 2507},\n",
              " 'виц': {'Мир': 331, 'Россия': 820},\n",
              " 'декабр': {'Мир': 41, 'Россия': 153},\n",
              " 'понск': {'Мир': 579, 'Россия': 186},\n",
              " 'безработн': {'Мир': 48, 'Россия': 134},\n",
              " 'искромса': {'Мир': 1, 'Россия': 1},\n",
              " 'восьмер': {'Мир': 21, 'Россия': 25},\n",
              " 'станц': {'Мир': 131, 'Россия': 562},\n",
              " 'выключ': {'Мир': 1, 'Россия': 4},\n",
              " 'главн': {'Мир': 595, 'Россия': 828},\n",
              " 'компьютер': {'Мир': 79, 'Россия': 62},\n",
              " 'афин': {'Мир': 112, 'Россия': 20},\n",
              " 'азербайджан': {'Мир': 17, 'Россия': 26},\n",
              " 'открыт': {'Мир': 159, 'Россия': 270},\n",
              " 'крупн': {'Мир': 636, 'Россия': 527},\n",
              " 'месторожден': {'Мир': 39, 'Россия': 21},\n",
              " 'газ': {'Мир': 1603, 'Россия': 442},\n",
              " 'погибш': {'Мир': 1262, 'Россия': 1394},\n",
              " 'дет': {'Мир': 831, 'Россия': 1177},\n",
              " 'реч': {'Мир': 115, 'Россия': 52},\n",
              " 'идет': {'Мир': 31, 'Россия': 97},\n",
              " 'обыска': {'Мир': 62, 'Россия': 114},\n",
              " 'дач': {'Мир': 22, 'Россия': 163},\n",
              " 'две': {'Мир': 344, 'Россия': 471},\n",
              " 'квартир': {'Мир': 246, 'Россия': 666},\n",
              " 'юр': {'Мир': 9, 'Россия': 277},\n",
              " 'скуратов': {'Мир': 0, 'Россия': 34},\n",
              " 'больниц': {'Мир': 427, 'Россия': 670},\n",
              " 'поможет': {'Мир': 95, 'Россия': 118},\n",
              " 'прикр': {'Мир': 9, 'Россия': 17},\n",
              " 'взорва': {'Мир': 1157, 'Россия': 1548},\n",
              " 'генера': {'Мир': 362, 'Россия': 472},\n",
              " 'семенов': {'Мир': 0, 'Россия': 7},\n",
              " 'вольн': {'Мир': 2, 'Россия': 15},\n",
              " 'трактовк': {'Мир': 0, 'Россия': 2},\n",
              " 'интерв': {'Мир': 67, 'Россия': 82},\n",
              " 'усилива': {'Мир': 17, 'Россия': 11},\n",
              " 'курильщик': {'Мир': 25, 'Россия': 19},\n",
              " 'лдпр': {'Мир': 4, 'Россия': 348},\n",
              " 'дал': {'Мир': 410, 'Россия': 1008},\n",
              " 'провест': {'Мир': 127, 'Россия': 180},\n",
              " 'пикет': {'Мир': 10, 'Россия': 203},\n",
              " 'менингитн': {'Мир': 0, 'Россия': 1},\n",
              " 'лихорадк': {'Мир': 65, 'Россия': 13},\n",
              " 'волгоград': {'Мир': 9, 'Россия': 423},\n",
              " 'усиливаетс': {'Мир': 1, 'Россия': 2},\n",
              " 'югослав': {'Мир': 99, 'Россия': 13},\n",
              " 'готов': {'Мир': 524, 'Россия': 525},\n",
              " 'вернут': {'Мир': 206, 'Россия': 300},\n",
              " 'соста': {'Мир': 82, 'Россия': 145},\n",
              " 'депутат': {'Мир': 406, 'Россия': 2801},\n",
              " 'езд': {'Мир': 61, 'Россия': 163},\n",
              " 'электричк': {'Мир': 35, 'Россия': 208},\n",
              " 'льгот': {'Мир': 18, 'Россия': 127},\n",
              " 'сбит': {'Мир': 207, 'Россия': 144},\n",
              " 'штурмовик': {'Мир': 20, 'Россия': 15},\n",
              " 'су': {'Мир': 200, 'Россия': 174},\n",
              " 'кушкин': {'Мир': 0, 'Россия': 4},\n",
              " 'обращаетс': {'Мир': 0, 'Россия': 4},\n",
              " 'обс': {'Мир': 84, 'Россия': 116},\n",
              " 'разреш': {'Мир': 820, 'Россия': 817},\n",
              " 'ввест': {'Мир': 137, 'Россия': 210},\n",
              " 'войск': {'Мир': 1128, 'Россия': 400},\n",
              " 'отверг': {'Мир': 138, 'Россия': 129},\n",
              " 'обвинен': {'Мир': 889, 'Россия': 1354},\n",
              " 'получен': {'Мир': 99, 'Россия': 248},\n",
              " 'израил': {'Мир': 2796, 'Россия': 108},\n",
              " 'освобожда': {'Мир': 27, 'Россия': 20},\n",
              " 'палестинц': {'Мир': 1200, 'Россия': 18},\n",
              " 'заключен': {'Мир': 799, 'Россия': 765},\n",
              " 'эстон': {'Мир': 105, 'Россия': 88},\n",
              " 'печата': {'Мир': 5, 'Россия': 19},\n",
              " 'дополнительн': {'Мир': 86, 'Россия': 88},\n",
              " 'зни': {'Мир': 16, 'Россия': 12},\n",
              " 'курск': {'Мир': 6, 'Россия': 739},\n",
              " 'спекулир': {'Мир': 0, 'Россия': 1},\n",
              " 'хлеб': {'Мир': 5, 'Россия': 31},\n",
              " 'бензин': {'Мир': 40, 'Россия': 72},\n",
              " 'станет': {'Мир': 194, 'Россия': 242},\n",
              " 'дорож': {'Мир': 10, 'Россия': 24},\n",
              " 'захват': {'Мир': 941, 'Россия': 609},\n",
              " 'чабанмах': {'Мир': 0, 'Россия': 2},\n",
              " 'днем': {'Мир': 29, 'Россия': 92},\n",
              " 'траур': {'Мир': 85, 'Россия': 107},\n",
              " 'судн': {'Мир': 675, 'Россия': 263},\n",
              " 'спаса': {'Мир': 41, 'Россия': 44},\n",
              " 'титаник': {'Мир': 32, 'Россия': 6},\n",
              " 'канда': {'Мир': 1, 'Россия': 0},\n",
              " 'отмывк': {'Мир': 1, 'Россия': 0},\n",
              " 'денег': {'Мир': 217, 'Россия': 352},\n",
              " 'отразитс': {'Мир': 2, 'Россия': 3},\n",
              " 'олбрайт': {'Мир': 30, 'Россия': 8},\n",
              " 'очередн': {'Мир': 129, 'Россия': 119},\n",
              " 'транш': {'Мир': 3, 'Россия': 5},\n",
              " 'отлож': {'Мир': 320, 'Россия': 258},\n",
              " 'окт': {'Мир': 43, 'Россия': 160},\n",
              " 'опроверга': {'Мир': 19, 'Россия': 58},\n",
              " 'сообщен': {'Мир': 329, 'Россия': 580},\n",
              " 'франц': {'Мир': 1531, 'Россия': 232},\n",
              " 'собираетс': {'Мир': 158, 'Россия': 139},\n",
              " 'саентолог': {'Мир': 4, 'Россия': 3},\n",
              " 'разда': {'Мир': 21, 'Россия': 31},\n",
              " 'наград': {'Мир': 168, 'Россия': 338},\n",
              " 'обыск': {'Мир': 80, 'Россия': 467},\n",
              " 'из': {'Мир': 118, 'Россия': 511},\n",
              " 'видеокассет': {'Мир': 2, 'Россия': 8},\n",
              " 'семейн': {'Мир': 40, 'Россия': 48},\n",
              " 'активист': {'Мир': 203, 'Россия': 469},\n",
              " 'штаб': {'Мир': 350, 'Россия': 315},\n",
              " 'аэропорт': {'Мир': 1032, 'Россия': 675},\n",
              " 'домодедов': {'Мир': 12, 'Россия': 376},\n",
              " 'доеха': {'Мир': 5, 'Россия': 17},\n",
              " 'скоростн': {'Мир': 31, 'Россия': 31},\n",
              " 'восстановл': {'Мир': 56, 'Россия': 189},\n",
              " 'народн': {'Мир': 64, 'Россия': 288},\n",
              " 'контрол': {'Мир': 227, 'Россия': 210},\n",
              " 'угроз': {'Мир': 758, 'Россия': 668},\n",
              " 'торгов': {'Мир': 239, 'Россия': 300},\n",
              " 'комплекс': {'Мир': 79, 'Россия': 128},\n",
              " 'охотн': {'Мир': 0, 'Россия': 20},\n",
              " 'р': {'Мир': 301, 'Россия': 604},\n",
              " 'д': {'Мир': 278, 'Россия': 303},\n",
              " 'премьер': {'Мир': 1864, 'Россия': 529},\n",
              " 'одобр': {'Мир': 407, 'Россия': 376},\n",
              " 'план': {'Мир': 818, 'Россия': 455},\n",
              " 'мер': {'Мир': 149, 'Россия': 165},\n",
              " 'предотвращен': {'Мир': 40, 'Россия': 62},\n",
              " 'техник': {'Мир': 52, 'Россия': 105},\n",
              " 'пыта': {'Мир': 136, 'Россия': 272},\n",
              " 'сбыт': {'Мир': 7, 'Россия': 22},\n",
              " 'цру': {'Мир': 665, 'Россия': 142},\n",
              " 'враг': {'Мир': 100, 'Россия': 70},\n",
              " 'северн': {'Мир': 990, 'Россия': 697},\n",
              " 'вгтрк': {'Мир': 2, 'Россия': 36},\n",
              " 'сто': {'Мир': 141, 'Россия': 165},\n",
              " 'гран': {'Мир': 25, 'Россия': 26},\n",
              " 'банкротств': {'Мир': 24, 'Россия': 30},\n",
              " 'спасательн': {'Мир': 45, 'Россия': 66},\n",
              " 'работ': {'Мир': 668, 'Россия': 1142},\n",
              " 'завершаютс': {'Мир': 2, 'Россия': 0},\n",
              " 'офис': {'Мир': 179, 'Россия': 308},\n",
              " 'луб': {'Мир': 2, 'Россия': 108},\n",
              " 'нке': {'Мир': 32, 'Россия': 105},\n",
              " 'обезвреж': {'Мир': 18, 'Россия': 109},\n",
              " 'пакет': {'Мир': 52, 'Россия': 100},\n",
              " 'картошк': {'Мир': 6, 'Россия': 22},\n",
              " 'будильник': {'Мир': 5, 'Россия': 3},\n",
              " 'опасн': {'Мир': 277, 'Россия': 265},\n",
              " 'минат': {'Мир': 1, 'Россия': 9},\n",
              " 'охран': {'Мир': 119, 'Россия': 186},\n",
              " 'дерн': {'Мир': 1334, 'Россия': 300},\n",
              " 'объект': {'Мир': 183, 'Россия': 148},\n",
              " 'бьет': {'Мир': 3, 'Россия': 2},\n",
              " 'рекорд': {'Мир': 91, 'Россия': 120},\n",
              " 'обь': {'Мир': 10, 'Россия': 16},\n",
              " 'торг': {'Мир': 18, 'Россия': 19},\n",
              " 'валют': {'Мир': 15, 'Россия': 29},\n",
              " 'таможн': {'Мир': 22, 'Россия': 128},\n",
              " 'снижа': {'Мир': 4, 'Россия': 8},\n",
              " 'пошлин': {'Мир': 3, 'Россия': 20},\n",
              " 'ввоз': {'Мир': 36, 'Россия': 63},\n",
              " 'автомобил': {'Мир': 360, 'Россия': 770},\n",
              " 'польш': {'Мир': 774, 'Россия': 194},\n",
              " 'венецианск': {'Мир': 4, 'Россия': 6},\n",
              " 'кинофестивал': {'Мир': 6, 'Россия': 4},\n",
              " 'побед': {'Мир': 677, 'Россия': 686},\n",
              " 'китайц': {'Мир': 278, 'Россия': 90},\n",
              " 'сгорел': {'Мир': 245, 'Россия': 424},\n",
              " 'центральн': {'Мир': 129, 'Россия': 152},\n",
              " 'вокза': {'Мир': 60, 'Россия': 151},\n",
              " 'нью': {'Мир': 1274, 'Россия': 190},\n",
              " 'йорк': {'Мир': 865, 'Россия': 135},\n",
              " 'ужесточаютс': {'Мир': 0, 'Россия': 2},\n",
              " 'безопасн': {'Мир': 529, 'Россия': 476},\n",
              " 'вооружен': {'Мир': 419, 'Россия': 392},\n",
              " 'вторгл': {'Мир': 23, 'Россия': 4},\n",
              " 'ставропол': {'Мир': 7, 'Россия': 423},\n",
              " 'использ': {'Мир': 19, 'Россия': 18},\n",
              " 'дл': {'Мир': 2307, 'Россия': 3233},\n",
              " 'взлом': {'Мир': 39, 'Россия': 40},\n",
              " 'задержа': {'Мир': 1830, 'Россия': 5200},\n",
              " 'случ': {'Мир': 13, 'Россия': 19},\n",
              " 'нин': {'Мир': 502, 'Россия': 794},\n",
              " 'пыталс': {'Мир': 76, 'Россия': 147},\n",
              " 'вывезт': {'Мир': 19, 'Россия': 47},\n",
              " 'радар': {'Мир': 51, 'Россия': 11},\n",
              " 'сли': {'Мир': 7, 'Россия': 30},\n",
              " 'нефт': {'Мир': 501, 'Россия': 234},\n",
              " 'ных': {'Мир': 30, 'Россия': 105},\n",
              " 'публик': {'Мир': 45, 'Россия': 10},\n",
              " 'письм': {'Мир': 202, 'Россия': 236},\n",
              " 'волошин': {'Мир': 0, 'Россия': 36},\n",
              " 'совест': {'Мир': 4, 'Россия': 23},\n",
              " 'жалост': {'Мир': 1, 'Россия': 5},\n",
              " 'чест': {'Мир': 125, 'Россия': 187},\n",
              " 'обсуд': {'Мир': 239, 'Россия': 209},\n",
              " 'утечк': {'Мир': 238, 'Россия': 101},\n",
              " 'ограблен': {'Мир': 84, 'Россия': 236},\n",
              " 'начина': {'Мир': 84, 'Россия': 88},\n",
              " 'длин': {'Мир': 26, 'Россия': 21},\n",
              " 'очищ': {'Мир': 1, 'Россия': 3},\n",
              " 'советск': {'Мир': 230, 'Россия': 177},\n",
              " 'разведк': {'Мир': 513, 'Россия': 117},\n",
              " 'знал': {'Мир': 38, 'Россия': 46},\n",
              " 'секрет': {'Мир': 78, 'Россия': 54},\n",
              " 'подозреваютс': {'Мир': 8, 'Россия': 15},\n",
              " 'чиновник': {'Мир': 372, 'Россия': 1365},\n",
              " 'вил': {'Мир': 3044, 'Россия': 2668},\n",
              " 'власт': {'Мир': 2079, 'Россия': 1937},\n",
              " 'м': {'Мир': 1490, 'Россия': 1646},\n",
              " 'перекачк': {'Мир': 1, 'Россия': 3},\n",
              " 'миллиардн': {'Мир': 16, 'Россия': 20},\n",
              " 'сумм': {'Мир': 47, 'Россия': 96},\n",
              " 'свердловск': {'Мир': 14, 'Россия': 328},\n",
              " 'буйнакск': {'Мир': 0, 'Россия': 104},\n",
              " 'борис': {'Мир': 62, 'Россия': 231},\n",
              " 'химзавод': {'Мир': 55, 'Россия': 21},\n",
              " 'мытищ': {'Мир': 0, 'Россия': 42},\n",
              " 'сильн': {'Мир': 327, 'Россия': 161},\n",
              " 'пожар': {'Мир': 1553, 'Россия': 2213},\n",
              " 'планируетс': {'Мир': 0, 'Россия': 6},\n",
              " 'должност': {'Мир': 136, 'Россия': 425},\n",
              " 'старш': {'Мир': 111, 'Россия': 59},\n",
              " 'подъезд': {'Мир': 8, 'Россия': 112},\n",
              " 'проблем': {'Мир': 133, 'Россия': 136},\n",
              " 'возвраща': {'Мир': 20, 'Россия': 34},\n",
              " 'посл': {'Мир': 567, 'Россия': 222},\n",
              " 'белорусс': {'Мир': 174, 'Россия': 197},\n",
              " 'урага': {'Мир': 394, 'Россия': 121},\n",
              " 'флойд': {'Мир': 4, 'Россия': 0},\n",
              " 'флорид': {'Мир': 329, 'Россия': 57},\n",
              " 'эвакуируетс': {'Мир': 4, 'Россия': 0},\n",
              " 'шаттл': {'Мир': 137, 'Россия': 1},\n",
              " 'остаютс': {'Мир': 18, 'Россия': 68},\n",
              " 'виктор': {'Мир': 148, 'Россия': 219},\n",
              " 'калюжн': {'Мир': 0, 'Россия': 3},\n",
              " 'утвержд': {'Мир': 28, 'Россия': 75},\n",
              " 'коллег': {'Мир': 140, 'Россия': 239},\n",
              " 'госпредставител': {'Мир': 0, 'Россия': 2},\n",
              " 'транснефт': {'Мир': 1, 'Россия': 12},\n",
              " 'измен': {'Мир': 138, 'Россия': 185},\n",
              " 'тс': {'Мир': 312, 'Россия': 442},\n",
              " 'прав': {'Мир': 913, 'Россия': 1232},\n",
              " 'оформлен': {'Мир': 0, 'Россия': 31},\n",
              " 'товар': {'Мир': 26, 'Россия': 52},\n",
              " 'раис': {'Мир': 0, 'Россия': 8},\n",
              " 'горбачев': {'Мир': 16, 'Россия': 62},\n",
              " 'перевед': {'Мир': 16, 'Россия': 29},\n",
              " 'реанимац': {'Мир': 17, 'Россия': 66},\n",
              " 'мгу': {'Мир': 6, 'Россия': 295},\n",
              " 'усилен': {'Мир': 48, 'Россия': 94},\n",
              " 'контрольн': {'Мир': 1, 'Россия': 25},\n",
              " 'пропускн': {'Мир': 4, 'Россия': 11},\n",
              " 'реж': {'Мир': 169, 'Россия': 337},\n",
              " 'борисовск': {'Мир': 0, 'Россия': 3},\n",
              " 'пруд': {'Мир': 10, 'Россия': 56},\n",
              " 'взрывчатк': {'Мир': 157, 'Россия': 277},\n",
              " 'испанск': {'Мир': 334, 'Россия': 110},\n",
              " 'полиц': {'Мир': 2413, 'Россия': 1640},\n",
              " 'арестова': {'Мир': 2377, 'Россия': 2141},\n",
              " 'город': {'Мир': 1027, 'Россия': 703},\n",
              " 'задыхаютс': {'Мир': 1, 'Россия': 1},\n",
              " 'химическ': {'Мир': 257, 'Россия': 80},\n",
              " 'выброс': {'Мир': 63, 'Россия': 97},\n",
              " 'лондон': {'Мир': 809, 'Россия': 190},\n",
              " 'обсуждаетс': {'Мир': 3, 'Россия': 1},\n",
              " 'реструктуризац': {'Мир': 0, 'Россия': 3},\n",
              " 'долг': {'Мир': 141, 'Россия': 262},\n",
              " 'ссср': {'Мир': 79, 'Россия': 128},\n",
              " 'чрезвычайн': {'Мир': 225, 'Россия': 107},\n",
              " 'пок': {'Мир': 131, 'Россия': 140},\n",
              " 'кб': {'Мир': 3, 'Россия': 16},\n",
              " 'сух': {'Мир': 27, 'Россия': 60},\n",
              " 'русск': {'Мир': 371, 'Россия': 686},\n",
              " 'маф': {'Мир': 175, 'Россия': 91},\n",
              " 'иностра': {'Мир': 324, 'Россия': 370},\n",
              " 'инвестиц': {'Мир': 9, 'Россия': 17},\n",
              " 'последн': {'Мир': 431, 'Россия': 331},\n",
              " 'событ': {'Мир': 32, 'Россия': 72},\n",
              " 'расписан': {'Мир': 5, 'Россия': 18},\n",
              " 'сожгл': {'Мир': 151, 'Россия': 120},\n",
              " 'машин': {'Мир': 425, 'Россия': 1243},\n",
              " 'дипломат': {'Мир': 717, 'Россия': 327},\n",
              " 'генпрокурор': {'Мир': 129, 'Россия': 152},\n",
              " 'казахста': {'Мир': 61, 'Россия': 63},\n",
              " 'смог': {'Мир': 107, 'Россия': 100},\n",
              " 'кажегельдин': {'Мир': 0, 'Россия': 1},\n",
              " 'вступ': {'Мир': 215, 'Россия': 241},\n",
              " 'рассчитыва': {'Мир': 9, 'Россия': 12},\n",
              " 'бдительн': {'Мир': 5, 'Россия': 30},\n",
              " 'горожа': {'Мир': 7, 'Россия': 23},\n",
              " 'подземн': {'Мир': 57, 'Россия': 57},\n",
              " 'толчок': {'Мир': 7, 'Россия': 0},\n",
              " 'легков': {'Мир': 7, 'Россия': 36},\n",
              " 'автомашин': {'Мир': 13, 'Россия': 15},\n",
              " 'делегац': {'Мир': 102, 'Россия': 89},\n",
              " 'проведет': {'Мир': 103, 'Россия': 128},\n",
              " 'отмыван': {'Мир': 52, 'Россия': 50},\n",
              " 'тыс': {'Мир': 1866, 'Россия': 2137},\n",
              " 'чи': {'Мир': 485, 'Россия': 418},\n",
              " 'жител': {'Мир': 981, 'Россия': 1910},\n",
              " 'улиц': {'Мир': 267, 'Россия': 548},\n",
              " 'красн': {'Мир': 292, 'Россия': 1189},\n",
              " 'ма': {'Мир': 111, 'Россия': 314},\n",
              " 'ка': {'Мир': 128, 'Россия': 588},\n",
              " 'покинул': {'Мир': 192, 'Россия': 145},\n",
              " 'селен': {'Мир': 14, 'Россия': 40},\n",
              " 'перекр': {'Мир': 88, 'Россия': 205},\n",
              " 'автодорог': {'Мир': 3, 'Россия': 15},\n",
              " 'требова': {'Мир': 27, 'Россия': 60},\n",
              " 'выда': {'Мир': 301, 'Россия': 313},\n",
              " 'трагед': {'Мир': 20, 'Россия': 26},\n",
              " 'каширск': {'Мир': 2, 'Россия': 25},\n",
              " 'шосс': {'Мир': 65, 'Россия': 240},\n",
              " 'фоторепортаж': {'Мир': 1, 'Россия': 2},\n",
              " 'представител': {'Мир': 277, 'Россия': 220},\n",
              " 'угрожа': {'Мир': 286, 'Россия': 212},\n",
              " 'погром': {'Мир': 79, 'Россия': 101},\n",
              " 'британск': {'Мир': 2384, 'Россия': 540},\n",
              " 'путеводител': {'Мир': 4, 'Россия': 3},\n",
              " 'еха': {'Мир': 51, 'Россия': 47},\n",
              " 'рекомендуетс': {'Мир': 1, 'Россия': 2},\n",
              " 'подтверд': {'Мир': 472, 'Россия': 504},\n",
              " 'чернобыл': {'Мир': 12, 'Россия': 4},\n",
              " 'вперв': {'Мир': 565, 'Россия': 206},\n",
              " 'чаэс': {'Мир': 1, 'Россия': 2},\n",
              " 'родилс': {'Мир': 11, 'Россия': 6},\n",
              " 'ребенок': {'Мир': 70, 'Россия': 116},\n",
              " 'омон': {'Мир': 7, 'Россия': 249},\n",
              " 'ст': {'Мир': 22, 'Россия': 19},\n",
              " 'гива': {'Мир': 26, 'Россия': 17},\n",
              " 'п': {'Мир': 1456, 'Россия': 2605},\n",
              " 'тер': {'Мир': 328, 'Россия': 301},\n",
              " 'мусульманск': {'Мир': 98, 'Россия': 47},\n",
              " 'дес': {'Мир': 700, 'Россия': 515},\n",
              " 'лет': {'Мир': 1090, 'Россия': 1540},\n",
              " 'тюрьм': {'Мир': 1677, 'Россия': 641},\n",
              " 'авиалайнер': {'Мир': 82, 'Россия': 36},\n",
              " 'обрушитьс': {'Мир': 6, 'Россия': 0},\n",
              " 'побереж': {'Мир': 185, 'Россия': 27},\n",
              " 'подозрен': {'Мир': 230, 'Россия': 279},\n",
              " 'причастн': {'Мир': 341, 'Россия': 358},\n",
              " 'слух': {'Мир': 117, 'Россия': 202},\n",
              " 'отставк': {'Мир': 1209, 'Россия': 1122},\n",
              " 'ильн': {'Мир': 0, 'Россия': 1},\n",
              " 'преувелич': {'Мир': 5, 'Россия': 5},\n",
              " 'воинск': {'Мир': 37, 'Россия': 138},\n",
              " 'част': {'Мир': 331, 'Россия': 495},\n",
              " 'шпион': {'Мир': 570, 'Россия': 159},\n",
              " 'кавказ': {'Мир': 13, 'Россия': 342},\n",
              " 'ограбл': {'Мир': 15, 'Россия': 125},\n",
              " 'автобус': {'Мир': 978, 'Россия': 922},\n",
              " 'скурат': {'Мир': 1, 'Россия': 20},\n",
              " 'откр': {'Мир': 602, 'Россия': 562},\n",
              " 'сесс': {'Мир': 16, 'Россия': 40},\n",
              " 'ассамбл': {'Мир': 42, 'Россия': 14},\n",
              " 'каф': {'Мир': 85, 'Россия': 281},\n",
              " 'минувш': {'Мир': 2, 'Россия': 11},\n",
              " 'суток': {'Мир': 37, 'Россия': 140},\n",
              " 'шри': {'Мир': 138, 'Россия': 34},\n",
              " 'ланк': {'Мир': 135, 'Россия': 32},\n",
              " 'замминистр': {'Мир': 35, 'Россия': 103},\n",
              " 'лужк': {'Мир': 9, 'Россия': 474},\n",
              " 'сайт': {'Мир': 88, 'Россия': 167},\n",
              " 'конференц': {'Мир': 126, 'Россия': 106},\n",
              " 'кажд': {'Мир': 138, 'Россия': 174},\n",
              " 'полож': {'Мир': 15, 'Россия': 17},\n",
              " 'минут': {'Мир': 64, 'Россия': 100},\n",
              " 'эфир': {'Мир': 66, 'Россия': 68},\n",
              " 'ежемес': {'Мир': 6, 'Россия': 14},\n",
              " 'чно': {'Мир': 9, 'Россия': 29},\n",
              " 'закрыва': {'Мир': 44, 'Россия': 74},\n",
              " 'клиент': {'Мир': 37, 'Россия': 101},\n",
              " 'совет': {'Мир': 411, 'Россия': 922},\n",
              " 'реш': {'Мир': 1118, 'Россия': 1168},\n",
              " 'служб': {'Мир': 333, 'Россия': 485},\n",
              " 'черн': {'Мир': 424, 'Россия': 435},\n",
              " 'касс': {'Мир': 23, 'Россия': 25},\n",
              " 'рушайл': {'Мир': 1, 'Россия': 74},\n",
              " 'квашнин': {'Мир': 1, 'Россия': 37},\n",
              " 'вылетел': {'Мир': 66, 'Россия': 83},\n",
              " 'госдепартамент': {'Мир': 114, 'Россия': 42},\n",
              " 'предлож': {'Мир': 1135, 'Россия': 3015},\n",
              " 'север': {'Мир': 468, 'Россия': 416},\n",
              " 'пропа': {'Мир': 763, 'Россия': 801},\n",
              " 'вертолет': {'Мир': 1193, 'Россия': 670},\n",
              " 'анап': {'Мир': 1, 'Россия': 35},\n",
              " 'завершилс': {'Мир': 19, 'Россия': 67},\n",
              " 'фестивал': {'Мир': 51, 'Россия': 94},\n",
              " 'киношок': {'Мир': 0, 'Россия': 1},\n",
              " 'зенитн': {'Мир': 17, 'Россия': 28},\n",
              " 'войсков': {'Мир': 2, 'Россия': 13},\n",
              " 'здан': {'Мир': 558, 'Россия': 921},\n",
              " 'волгодонск': {'Мир': 0, 'Россия': 49},\n",
              " 'жил': {'Мир': 343, 'Россия': 630},\n",
              " 'круш': {'Мир': 1, 'Россия': 1},\n",
              " 'америк': {'Мир': 233, 'Россия': 58},\n",
              " 'милиц': {'Мир': 38, 'Россия': 1375},\n",
              " 'лов': {'Мир': 33, 'Россия': 98},\n",
              " 'иногородн': {'Мир': 0, 'Россия': 14},\n",
              " 'ч': {'Мир': 1204, 'Россия': 1558},\n",
              " 'егор': {'Мир': 1, 'Россия': 67},\n",
              " 'стро': {'Мир': 182, 'Россия': 182},\n",
              " 'западн': {'Мир': 349, 'Россия': 155},\n",
              " 'дума': {'Мир': 15, 'Россия': 18},\n",
              " 'сокращен': {'Мир': 58, 'Россия': 110},\n",
              " 'присутств': {'Мир': 70, 'Россия': 42},\n",
              " 'чертанов': {'Мир': 0, 'Россия': 14},\n",
              " 'поиск': {'Мир': 299, 'Россия': 321},\n",
              " 'продолжаютс': {'Мир': 33, 'Россия': 24},\n",
              " 'эвакуирова': {'Мир': 513, 'Россия': 433},\n",
              " 'предполага': {'Мир': 204, 'Россия': 326},\n",
              " 'организатор': {'Мир': 224, 'Россия': 625},\n",
              " 'предотвращ': {'Мир': 48, 'Россия': 121},\n",
              " 'реакц': {'Мир': 34, 'Россия': 67},\n",
              " 'лидер': {'Мир': 1724, 'Россия': 1090},\n",
              " 'народ': {'Мир': 133, 'Россия': 151},\n",
              " 'провозглаш': {'Мир': 2, 'Россия': 1},\n",
              " 'автоном': {'Мир': 216, 'Россия': 28},\n",
              " 'дан': {'Мир': 474, 'Россия': 396},\n",
              " 'прохожден': {'Мир': 2, 'Россия': 12},\n",
              " 'средств': {'Мир': 108, 'Россия': 112},\n",
              " 'тайфун': {'Мир': 126, 'Россия': 30},\n",
              " 'обрушилс': {'Мир': 147, 'Россия': 80},\n",
              " 'прокуратур': {'Мир': 226, 'Россия': 1400},\n",
              " 'призыва': {'Мир': 91, 'Россия': 99},\n",
              " 'разобратьс': {'Мир': 28, 'Россия': 97},\n",
              " 'чеченц': {'Мир': 60, 'Россия': 407},\n",
              " 'уговор': {'Мир': 36, 'Россия': 36},\n",
              " 'лондонск': {'Мир': 347, 'Россия': 104},\n",
              " 'кредитор': {'Мир': 10, 'Россия': 10},\n",
              " 'мерседес': {'Мир': 10, 'Россия': 122},\n",
              " 'достав': {'Мир': 73, 'Россия': 120},\n",
              " 'милошевич': {'Мир': 285, 'Россия': 26},\n",
              " 'невыездн': {'Мир': 7, 'Россия': 18},\n",
              " 'критическ': {'Мир': 34, 'Россия': 16},\n",
              " 'разорва': {'Мир': 83, 'Россия': 37},\n",
              " 'договор': {'Мир': 497, 'Россия': 315},\n",
              " 'австрал': {'Мир': 341, 'Россия': 37},\n",
              " 'татарста': {'Мир': 5, 'Россия': 154},\n",
              " 'разрушен': {'Мир': 68, 'Россия': 65},\n",
              " 'нетан': {'Мир': 206, 'Россия': 11},\n",
              " 'гу': {'Мир': 155, 'Россия': 85},\n",
              " 'махинац': {'Мир': 53, 'Россия': 98},\n",
              " 'индийск': {'Мир': 453, 'Россия': 100},\n",
              " 'штат': {'Мир': 545, 'Россия': 75},\n",
              " 'джамм': {'Мир': 2, 'Россия': 1},\n",
              " 'кашмир': {'Мир': 72, 'Россия': 15},\n",
              " 'установл': {'Мир': 71, 'Россия': 206},\n",
              " 'един': {'Мир': 76, 'Россия': 1143},\n",
              " ...}"
            ]
          },
          "metadata": {},
          "execution_count": 60
        }
      ]
    },
    {
      "cell_type": "code",
      "source": [
        "clf_new.predict('Основатель корпорации Microsoft Билл Гейтс написал книгу под названием «Как предотвратить следующую пандемию». В ней он описал шаги, с помощью которых можно избежать подобных глобальных явлений в будущем и обеспечить более качественное медицинское обслуживание для всех людей на планете.')"
      ],
      "metadata": {
        "colab": {
          "base_uri": "https://localhost:8080/"
        },
        "id": "B2hb4gptgYjb",
        "outputId": "d4cc5038-81a8-4fa0-90bc-ae633784ef67"
      },
      "execution_count": null,
      "outputs": [
        {
          "output_type": "execute_result",
          "data": {
            "text/plain": [
              "{'Культура': 1.6202967198171019e-34,\n",
              " 'Наука и техника': 0.9999907057506868,\n",
              " 'Политика': 2.3730755869382055e-26,\n",
              " 'Спорт': 3.2714846217179716e-54,\n",
              " 'Экономика': 3.421504849745968e-14}"
            ]
          },
          "metadata": {},
          "execution_count": 49
        }
      ]
    },
    {
      "cell_type": "code",
      "source": [
        "y_predicted = [clf_new.predict(string) for string in X_batch]\n",
        "y_predicted"
      ],
      "metadata": {
        "id": "U9k3cFumiAsr"
      },
      "execution_count": null,
      "outputs": []
    },
    {
      "cell_type": "code",
      "source": [
        "def choose(d):\n",
        "  foo = max(d.values())\n",
        "  for tag in d:\n",
        "    if d.get(tag) == foo:\n",
        "      return tag\n",
        "  \n",
        "y_predicted_new = [choose(p) for p in y_predicted]\n",
        "y_predicted_new"
      ],
      "metadata": {
        "id": "5Rzg-MxjhFe2"
      },
      "execution_count": null,
      "outputs": []
    },
    {
      "cell_type": "code",
      "source": [
        "up = down = 0\n",
        "for i in range(len(y_batch)):\n",
        "  down += 1\n",
        "  if y_batch[i] == y_predicted_new[i]:\n",
        "    up += 1\n",
        "accuracy = up/down\n",
        "accuracy"
      ],
      "metadata": {
        "colab": {
          "base_uri": "https://localhost:8080/"
        },
        "id": "EvNlwVYZhGBJ",
        "outputId": "8f3e9109-6014-4440-bdbb-f968062470e5"
      },
      "execution_count": null,
      "outputs": [
        {
          "output_type": "execute_result",
          "data": {
            "text/plain": [
              "0.9354641791556638"
            ]
          },
          "metadata": {},
          "execution_count": 310
        }
      ]
    },
    {
      "cell_type": "code",
      "source": [
        "import pickle\n",
        "pickle.DEFAULT_PROTOCOL\n",
        "with open ('topic_clf1.pickle', 'wb') as f:\n",
        "  pickle.dump(clf_new, f)"
      ],
      "metadata": {
        "id": "rhCqF1w2hMsV"
      },
      "execution_count": null,
      "outputs": []
    },
    {
      "cell_type": "code",
      "source": [
        "with open ('settings_geogr.pickle', 'wb') as f:\n",
        "  pickle.dump(clf_new.get_settings(), f)"
      ],
      "metadata": {
        "id": "VXmOAPeTETQC"
      },
      "execution_count": null,
      "outputs": []
    },
    {
      "cell_type": "code",
      "source": [
        "pickle.DEFAULT_PROTOCOL"
      ],
      "metadata": {
        "colab": {
          "base_uri": "https://localhost:8080/"
        },
        "id": "pIyUFFFqv5z5",
        "outputId": "d49070a0-221b-40cf-bcc1-663e67cec181"
      },
      "execution_count": null,
      "outputs": [
        {
          "output_type": "execute_result",
          "data": {
            "text/plain": [
              "3"
            ]
          },
          "metadata": {},
          "execution_count": 23
        }
      ]
    },
    {
      "cell_type": "code",
      "source": [
        " import pickle\n",
        " with open('topic_clf.pickle', 'rb') as f:\n",
        "   clf = pickle.load(f)"
      ],
      "metadata": {
        "id": "xQ60kdkt1fsA"
      },
      "execution_count": null,
      "outputs": []
    }
  ]
}